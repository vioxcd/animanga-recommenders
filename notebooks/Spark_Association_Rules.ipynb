{
  "nbformat": 4,
  "nbformat_minor": 0,
  "metadata": {
    "colab": {
      "provenance": []
    },
    "kernelspec": {
      "name": "python3",
      "display_name": "Python 3"
    },
    "language_info": {
      "name": "python"
    }
  },
  "cells": [
    {
      "cell_type": "markdown",
      "source": [
        "#### Installation"
      ],
      "metadata": {
        "id": "hxt9bNW-Y2F6"
      }
    },
    {
      "cell_type": "code",
      "execution_count": 1,
      "metadata": {
        "id": "O4nv4RApYxDQ"
      },
      "outputs": [],
      "source": [
        "!apt-get install openjdk-8-jdk-headless -qq > /dev/null\n",
        "# if download returns error, check the more recent version in the link below\n",
        "# https://dlcdn.apache.org/spark/\n",
        "!wget -q https://dlcdn.apache.org/spark/spark-3.3.2/spark-3.3.2-bin-hadoop3.tgz\n",
        "!tar xf spark-3.3.2-bin-hadoop3.tgz\n",
        "!pip install -q findspark"
      ]
    },
    {
      "cell_type": "code",
      "source": [
        "import os\n",
        "os.environ[\"JAVA_HOME\"] = \"/usr/lib/jvm/java-8-openjdk-amd64\"\n",
        "\n",
        "# don't forget to change these if download return errors\n",
        "os.environ[\"SPARK_HOME\"] = \"/content/spark-3.3.2-bin-hadoop3\""
      ],
      "metadata": {
        "id": "o1UKwpi9ZdW1"
      },
      "execution_count": 2,
      "outputs": []
    },
    {
      "cell_type": "code",
      "source": [
        "import findspark\n",
        "findspark.init()"
      ],
      "metadata": {
        "id": "F2Eb6ZL2ZmgX"
      },
      "execution_count": 3,
      "outputs": []
    },
    {
      "cell_type": "code",
      "source": [
        "from pyspark.sql import SparkSession\n",
        "\n",
        "spark = (SparkSession\n",
        "            .builder\n",
        "            .master(\"local\")\n",
        "            .appName(\"Colab\")\n",
        "            .config('spark.ui.port', '4050')\n",
        "            # .config(\"spark.executor.memory\", \"6g\")\n",
        "            .config(\"spark.driver.memory\", \"10g\")\n",
        "            .getOrCreate()\n",
        ")"
      ],
      "metadata": {
        "id": "8liUtMcybGuI"
      },
      "execution_count": 4,
      "outputs": []
    },
    {
      "cell_type": "code",
      "source": [
        "spark"
      ],
      "metadata": {
        "colab": {
          "base_uri": "https://localhost:8080/",
          "height": 219
        },
        "id": "rHnchxSsbNrX",
        "outputId": "b55a277a-62d1-4b0a-fd67-10082190ceb6"
      },
      "execution_count": 5,
      "outputs": [
        {
          "output_type": "execute_result",
          "data": {
            "text/plain": [
              "<pyspark.sql.session.SparkSession at 0x7f4568c425b0>"
            ],
            "text/html": [
              "\n",
              "            <div>\n",
              "                <p><b>SparkSession - in-memory</b></p>\n",
              "                \n",
              "        <div>\n",
              "            <p><b>SparkContext</b></p>\n",
              "\n",
              "            <p><a href=\"http://f4dd765863d5:4050\">Spark UI</a></p>\n",
              "\n",
              "            <dl>\n",
              "              <dt>Version</dt>\n",
              "                <dd><code>v3.3.2</code></dd>\n",
              "              <dt>Master</dt>\n",
              "                <dd><code>local</code></dd>\n",
              "              <dt>AppName</dt>\n",
              "                <dd><code>Colab</code></dd>\n",
              "            </dl>\n",
              "        </div>\n",
              "        \n",
              "            </div>\n",
              "        "
            ]
          },
          "metadata": {},
          "execution_count": 5
        }
      ]
    },
    {
      "cell_type": "code",
      "source": [
        "'''\n",
        "!wget https://bin.equinox.io/c/4VmDzA7iaHb/ngrok-stable-linux-amd64.zip\n",
        "!unzip ngrok-stable-linux-amd64.zip\n",
        "get_ipython().system_raw('./ngrok http 4050 &')\n",
        "!curl -s http://localhost:4040/api/tunnels\n",
        "'''"
      ],
      "metadata": {
        "id": "jLPI2qrKbRIe"
      },
      "execution_count": null,
      "outputs": []
    },
    {
      "cell_type": "markdown",
      "source": [
        "#### Download Dataset"
      ],
      "metadata": {
        "id": "XcX9fJBxbzeL"
      }
    },
    {
      "cell_type": "code",
      "source": [
        "!gdown \"https://drive.google.com/uc?id=1_2GmGcd_m75yqJRRQmzQsvHUMnqWKtOi\""
      ],
      "metadata": {
        "colab": {
          "base_uri": "https://localhost:8080/"
        },
        "id": "JxTto-58d41b",
        "outputId": "0dbc1c92-c320-44ae-d055-b1ee050a530f"
      },
      "execution_count": 6,
      "outputs": [
        {
          "output_type": "stream",
          "name": "stdout",
          "text": [
            "Downloading...\n",
            "From: https://drive.google.com/uc?id=1_2GmGcd_m75yqJRRQmzQsvHUMnqWKtOi\n",
            "To: /content/favs.tar.gz\n",
            "\r  0% 0.00/2.24M [00:00<?, ?B/s]\r100% 2.24M/2.24M [00:00<00:00, 146MB/s]\n"
          ]
        }
      ]
    },
    {
      "cell_type": "code",
      "source": [
        "!tar xvf 'favs.tar.gz'\n",
        "!mkdir favs-data\n",
        "!mv *.csv favs-data"
      ],
      "metadata": {
        "colab": {
          "base_uri": "https://localhost:8080/"
        },
        "id": "DQkxLkH_eX1H",
        "outputId": "16b9ac75-fea9-41d9-addd-49ccaab12ade"
      },
      "execution_count": 7,
      "outputs": [
        {
          "output_type": "stream",
          "name": "stdout",
          "text": [
            "./\n",
            "./81.csv\n",
            "./102.csv\n",
            "./104.csv\n",
            "./82.csv\n",
            "./31.csv\n",
            "./41.csv\n",
            "./01.csv\n",
            "./103.csv\n",
            "./61.csv\n",
            "./11.csv\n",
            "./83.csv\n",
            "./101.csv\n",
            "./72.csv\n",
            "./71.csv\n",
            "./21.csv\n",
            "./91.csv\n",
            "./51.csv\n"
          ]
        }
      ]
    },
    {
      "cell_type": "markdown",
      "source": [
        "#### Data Loading"
      ],
      "metadata": {
        "id": "SfmehTIHxiYx"
      }
    },
    {
      "cell_type": "code",
      "source": [
        "import pyspark.sql.functions as F\n",
        "from pyspark.ml.fpm import FPGrowth"
      ],
      "metadata": {
        "id": "iqO11geiKz8S"
      },
      "execution_count": 8,
      "outputs": []
    },
    {
      "cell_type": "code",
      "source": [
        "df = (spark\n",
        "        .read\n",
        "        .option(\"header\", \"true\")\n",
        "        .option(\"inferSchema\", \"true\")\n",
        "        .csv(\"favs-data\")\n",
        "      )\n",
        "\n",
        "print(\"Number of records in the dataset: \", df.count())"
      ],
      "metadata": {
        "colab": {
          "base_uri": "https://localhost:8080/"
        },
        "id": "xrOFr86OReX5",
        "outputId": "145f1f9f-bf39-4258-8f70-baab49b5f344"
      },
      "execution_count": 9,
      "outputs": [
        {
          "output_type": "stream",
          "name": "stdout",
          "text": [
            "Number of records in the dataset:  267924\n"
          ]
        }
      ]
    },
    {
      "cell_type": "code",
      "source": [
        "df.printSchema()"
      ],
      "metadata": {
        "colab": {
          "base_uri": "https://localhost:8080/"
        },
        "id": "Y29wwC0tRk6o",
        "outputId": "aa1a6873-b28a-474f-f300-fa90003dab0a"
      },
      "execution_count": 10,
      "outputs": [
        {
          "output_type": "stream",
          "name": "stdout",
          "text": [
            "root\n",
            " |-- username: string (nullable = true)\n",
            " |-- type: string (nullable = true)\n",
            " |-- name/title: string (nullable = true)\n",
            "\n"
          ]
        }
      ]
    },
    {
      "cell_type": "markdown",
      "source": [
        "#### Simple Cleaning"
      ],
      "metadata": {
        "id": "yer3PsRoxoXX"
      }
    },
    {
      "cell_type": "code",
      "source": [
        "df = (df\n",
        "        .withColumnRenamed('type', 'section')\n",
        "        .withColumnRenamed('name/title', 'name')\n",
        ")\n",
        "df.printSchema()"
      ],
      "metadata": {
        "colab": {
          "base_uri": "https://localhost:8080/"
        },
        "id": "l2QFImKER_4Z",
        "outputId": "3a6b57ef-2bf2-4f93-d767-ce3a3324528c"
      },
      "execution_count": 10,
      "outputs": [
        {
          "output_type": "stream",
          "name": "stdout",
          "text": [
            "root\n",
            " |-- username: string (nullable = true)\n",
            " |-- section: string (nullable = true)\n",
            " |-- name: string (nullable = true)\n",
            "\n"
          ]
        }
      ]
    },
    {
      "cell_type": "code",
      "source": [
        "df = df.distinct()"
      ],
      "metadata": {
        "id": "i_64XjPZSorw"
      },
      "execution_count": 11,
      "outputs": []
    },
    {
      "cell_type": "code",
      "source": [
        "df = (df\n",
        "        .withColumn(\"type_name\", \n",
        "                    F.concat_ws('_', F.col(\"section\"), F.col(\"name\"))\n",
        "                )\n",
        ")\n",
        "df.printSchema()"
      ],
      "metadata": {
        "colab": {
          "base_uri": "https://localhost:8080/"
        },
        "id": "QQj5xCl-wzSK",
        "outputId": "5e843d06-9e85-4444-8b4f-f8ecef19cc37"
      },
      "execution_count": 12,
      "outputs": [
        {
          "output_type": "stream",
          "name": "stdout",
          "text": [
            "root\n",
            " |-- username: string (nullable = true)\n",
            " |-- section: string (nullable = true)\n",
            " |-- name: string (nullable = true)\n",
            " |-- type_name: string (nullable = false)\n",
            "\n"
          ]
        }
      ]
    },
    {
      "cell_type": "code",
      "source": [
        "df.show(10)"
      ],
      "metadata": {
        "colab": {
          "base_uri": "https://localhost:8080/"
        },
        "id": "eR8Xnrkth4n3",
        "outputId": "944c5b0f-1d6d-40bd-b6c7-117e409b7da2"
      },
      "execution_count": 17,
      "outputs": [
        {
          "output_type": "stream",
          "name": "stdout",
          "text": [
            "+-------------+----------+--------------------+--------------------+\n",
            "|     username|   section|                name|           type_name|\n",
            "+-------------+----------+--------------------+--------------------+\n",
            "|        IN1RA|characters|              Senkuu|   characters_Senkuu|\n",
            "|    INERSIA03|     anime|Youkoso Jitsuryok...|anime_Youkoso Jit...|\n",
            "|    INERSIA03|characters|       Mihate, Hiura|characters_Mihate...|\n",
            "|  InfernaPuma|characters|       Walker, Allen|characters_Walker...|\n",
            "|    Inrageous|characters|     Oreki, Houtarou|characters_Oreki,...|\n",
            "|     Irene002|characters|              Madara|   characters_Madara|\n",
            "|         Iskk|characters|     Kanbaru, Suruga|characters_Kanbar...|\n",
            "|itsTomokocchi|     manga|          Lucky☆Star|    manga_Lucky☆Star|\n",
            "|     Ivan007_|     anime|Log Horizon 2nd S...|anime_Log Horizon...|\n",
            "|       Ivryxn|characters|     Miyazono, Kaori|characters_Miyazo...|\n",
            "+-------------+----------+--------------------+--------------------+\n",
            "only showing top 10 rows\n",
            "\n"
          ]
        }
      ]
    },
    {
      "cell_type": "markdown",
      "source": [
        "##### Grouped per-section"
      ],
      "metadata": {
        "id": "lD3_IMq9xeG2"
      }
    },
    {
      "cell_type": "code",
      "source": [
        "anime = df.filter(F.col(\"section\") == \"anime\")\n",
        "manga = df.filter(F.col(\"section\") == \"manga\")\n",
        "characters = df.filter(F.col(\"section\") == \"characters\")\n",
        "people = df.filter(F.col(\"section\") == \"people\")"
      ],
      "metadata": {
        "id": "tPanDbLhgQcs"
      },
      "execution_count": 13,
      "outputs": []
    },
    {
      "cell_type": "code",
      "source": [
        "anime.show(10), anime.count()"
      ],
      "metadata": {
        "colab": {
          "base_uri": "https://localhost:8080/"
        },
        "id": "u8ZvDiMggYKl",
        "outputId": "5d923ed9-2962-4a02-f5e6-9c0c58e9fec8"
      },
      "execution_count": 40,
      "outputs": [
        {
          "output_type": "stream",
          "name": "stdout",
          "text": [
            "+------------+-------+--------------------+--------------------+\n",
            "|    username|section|                name|           type_name|\n",
            "+------------+-------+--------------------+--------------------+\n",
            "|   INERSIA03|  anime|Youkoso Jitsuryok...|anime_Youkoso Jit...|\n",
            "|    Ivan007_|  anime|Log Horizon 2nd S...|anime_Log Horizon...|\n",
            "|     J4kub07|  anime|Tengen Toppa Gurr...|anime_Tengen Topp...|\n",
            "|      jackkl|  anime|     No Game No Life|anime_No Game No ...|\n",
            "|Jackmoose123|  anime|         Steins;Gate|   anime_Steins;Gate|\n",
            "|       Jannn|  anime|            Odd Taxi|      anime_Odd Taxi|\n",
            "|    JensenM_|  anime|  Shingeki no Kyojin|anime_Shingeki no...|\n",
            "|       jmp27|  anime|        Cowboy Bebop|  anime_Cowboy Bebop|\n",
            "|kamehamehaha|  anime|Hunter x Hunter (...|anime_Hunter x Hu...|\n",
            "|      kaz_77|  anime|Shouwa Genroku Ra...|anime_Shouwa Genr...|\n",
            "+------------+-------+--------------------+--------------------+\n",
            "only showing top 10 rows\n",
            "\n"
          ]
        },
        {
          "output_type": "execute_result",
          "data": {
            "text/plain": [
              "(None, 80653)"
            ]
          },
          "metadata": {},
          "execution_count": 40
        }
      ]
    },
    {
      "cell_type": "code",
      "source": [
        "manga.show(10), manga.count()"
      ],
      "metadata": {
        "colab": {
          "base_uri": "https://localhost:8080/"
        },
        "id": "Z9owmgd8gbFe",
        "outputId": "d7b125ca-528a-4259-b0bb-d5fc66dcaeb5"
      },
      "execution_count": 29,
      "outputs": [
        {
          "output_type": "stream",
          "name": "stdout",
          "text": [
            "+---------------+-------+--------------------+--------------------+\n",
            "|       username|section|                name|           type_name|\n",
            "+---------------+-------+--------------------+--------------------+\n",
            "|  itsTomokocchi|  manga|          Lucky☆Star|    manga_Lucky☆Star|\n",
            "|        Ixilora|  manga|     Seirei Gensouki|manga_Seirei Gens...|\n",
            "|       JapaBase|  manga|       Solo Leveling| manga_Solo Leveling|\n",
            "|     Jasonifier|  manga|Ijiranaide, Nagat...|manga_Ijiranaide,...|\n",
            "|         Jiet91|  manga|               Fuuka|         manga_Fuuka|\n",
            "|   jonniedonnie|  manga|Kaguya-sama wa Ko...|manga_Kaguya-sama...|\n",
            "|joyousawakening|  manga| Fullmetal Alchemist|manga_Fullmetal A...|\n",
            "|       kaah_m_s|  manga|           Ten Count|     manga_Ten Count|\n",
            "|       Katzurra|  manga|             Gintama|       manga_Gintama|\n",
            "|        Kickyuz|  manga|5-toubun no Hanayome|manga_5-toubun no...|\n",
            "+---------------+-------+--------------------+--------------------+\n",
            "only showing top 10 rows\n",
            "\n"
          ]
        },
        {
          "output_type": "execute_result",
          "data": {
            "text/plain": [
              "(None, 40141)"
            ]
          },
          "metadata": {},
          "execution_count": 29
        }
      ]
    },
    {
      "cell_type": "code",
      "source": [
        "characters.show(10), characters.count()"
      ],
      "metadata": {
        "colab": {
          "base_uri": "https://localhost:8080/"
        },
        "id": "6d6ttoV-gcJn",
        "outputId": "0d035e2b-1a53-488e-de97-9ee8f8647179"
      },
      "execution_count": 30,
      "outputs": [
        {
          "output_type": "stream",
          "name": "stdout",
          "text": [
            "+------------+----------+---------------+--------------------+\n",
            "|    username|   section|           name|           type_name|\n",
            "+------------+----------+---------------+--------------------+\n",
            "|       IN1RA|characters|         Senkuu|   characters_Senkuu|\n",
            "|   INERSIA03|characters|  Mihate, Hiura|characters_Mihate...|\n",
            "| InfernaPuma|characters|  Walker, Allen|characters_Walker...|\n",
            "|   Inrageous|characters|Oreki, Houtarou|characters_Oreki,...|\n",
            "|    Irene002|characters|         Madara|   characters_Madara|\n",
            "|        Iskk|characters|Kanbaru, Suruga|characters_Kanbar...|\n",
            "|      Ivryxn|characters|Miyazono, Kaori|characters_Miyazo...|\n",
            "|Jackmoose123|characters|Mashima, Taichi|characters_Mashim...|\n",
            "|     JacobPJ|characters|  Oumae, Kumiko|characters_Oumae,...|\n",
            "| jassycatx33|characters|   Honda, Tooru|characters_Honda,...|\n",
            "+------------+----------+---------------+--------------------+\n",
            "only showing top 10 rows\n",
            "\n"
          ]
        },
        {
          "output_type": "execute_result",
          "data": {
            "text/plain": [
              "(None, 92132)"
            ]
          },
          "metadata": {},
          "execution_count": 30
        }
      ]
    },
    {
      "cell_type": "code",
      "source": [
        "people.show(10), people.count()"
      ],
      "metadata": {
        "colab": {
          "base_uri": "https://localhost:8080/"
        },
        "id": "jEYbssylgd4d",
        "outputId": "fedbf41c-2aff-4bac-d78e-89fe2b2cf2fe"
      },
      "execution_count": 31,
      "outputs": [
        {
          "output_type": "stream",
          "name": "stdout",
          "text": [
            "+---------------+-------+--------------------+--------------------+\n",
            "|       username|section|                name|           type_name|\n",
            "+---------------+-------+--------------------+--------------------+\n",
            "| jacklikesmanga| people|      Urasawa, Naoki|people_Urasawa, N...|\n",
            "|Jamesbond000142| people|       Hikasa, Youko|people_Hikasa, Youko|\n",
            "|         Jiet91| people|Matsuoka, Yoshitsugu|people_Matsuoka, ...|\n",
            "|        Jinzaki| people|     Kamiya, Hiroshi|people_Kamiya, Hi...|\n",
            "|        JRKNoff| people|     Shinkou, Shotou|people_Shinkou, S...|\n",
            "|      Kamishoto| people|          Maeda, Jun|   people_Maeda, Jun|\n",
            "|         Kevten| people|         Baker, Troy|  people_Baker, Troy|\n",
            "|        Khukuri| people|    Hokazono, Masaya|people_Hokazono, ...|\n",
            "|     lilcapalot| people|     Tomatsu, Haruka|people_Tomatsu, H...|\n",
            "|lockemsockem123| people|   Sugiyama, Noriaki|people_Sugiyama, ...|\n",
            "+---------------+-------+--------------------+--------------------+\n",
            "only showing top 10 rows\n",
            "\n"
          ]
        },
        {
          "output_type": "execute_result",
          "data": {
            "text/plain": [
              "(None, 52731)"
            ]
          },
          "metadata": {},
          "execution_count": 31
        }
      ]
    },
    {
      "cell_type": "markdown",
      "source": [
        "#### Initial Run"
      ],
      "metadata": {
        "id": "vR_LLZPEsi8P"
      }
    },
    {
      "cell_type": "code",
      "source": [
        "\"\"\"\n",
        "Support\n",
        "The support of a set of items is the proportion of transactions in the dataset\n",
        "that contain that set of items. In other words, it measures how frequently the\n",
        "items appear together. A high support value indicates that the itemset is popular\n",
        "or frequent in the dataset.\n",
        "\n",
        "Confidence\n",
        "Confidence measures the strength of the association between two items.\n",
        "It is the proportion of transactions containing the antecedent (the first item)\n",
        "that also contain the consequent (the second item). A high confidence value\n",
        "indicates that the two items are strongly associated.\n",
        "\n",
        "Lift\n",
        "Lift measures the strength of the association between two items relative to the\n",
        "expected frequency of their co-occurrence. A lift value greater than 1 indicates\n",
        "a positive association (the items are more likely to occur together than expected),\n",
        "while a value less than 1 indicates a negative association (the items are less\n",
        "likely to occur together than expected). A lift value of 1 indicates no association.\n",
        "\n",
        "In general, higher support and confidence values indicate stronger relationships\n",
        "between items, while higher lift values indicate more significant associations.\n",
        "\n",
        "The number of data points in the dataset can affect the value of support and confidence,\n",
        "as more data points can result in smaller support and confidence values. However,\n",
        "lift is less sensitive to the number of data points and is more dependent on the\n",
        "strength of the association between the items. In general, as the number of data\n",
        "points increases, the support and confidence values may decrease, while the lift\n",
        "value may stay the same or increase if the association between the items is strong.\n",
        "\"\"\""
      ],
      "metadata": {
        "id": "2NMBY_ZookON"
      },
      "execution_count": null,
      "outputs": []
    },
    {
      "cell_type": "markdown",
      "source": [
        "##### All Sections"
      ],
      "metadata": {
        "id": "jeozJ_VLx4_y"
      }
    },
    {
      "cell_type": "code",
      "source": [
        "favs_data = (df\n",
        "                .groupBy(\"username\")\n",
        "                .agg(F.collect_list(\"type_name\"))\n",
        "                .sort('username')\n",
        "            )"
      ],
      "metadata": {
        "id": "KJFadIgnhtUN"
      },
      "execution_count": 18,
      "outputs": []
    },
    {
      "cell_type": "code",
      "source": [
        "fpGrowth = FPGrowth(itemsCol=\"collect_list(type_name)\",\n",
        "                    minSupport=0.001,\n",
        "                    minConfidence=0.5)\n",
        "\n",
        "model = fpGrowth.fit(favs_data)"
      ],
      "metadata": {
        "id": "_6AnExTDirFR"
      },
      "execution_count": 20,
      "outputs": []
    },
    {
      "cell_type": "code",
      "source": [
        "\"\"\"\n",
        "From FP-Growth's docs\n",
        "https://spark.apache.org/docs/latest/ml-frequent-pattern-mining.html\n",
        "\n",
        "The FPGrowthModel provides:\n",
        "\n",
        "- freqItemsets:\n",
        "frequent itemsets in the format of a DataFrame with the following columns:\n",
        "    - items: array: A given itemset.\n",
        "    - freq: long: A count of how many times this itemset was seen, given the configured model parameters.\n",
        "\n",
        "- associationRules:\n",
        "association rules generated with confidence above minConfidence,\n",
        "in the format of a DataFrame with the following columns:\n",
        "    - antecedent: array: The itemset that is the hypothesis of the association rule.\n",
        "    - consequent: array: An itemset that always contains a single element representing\n",
        "                         the conclusion of the association rule.\n",
        "    - confidence: double: Refer to minConfidence above for a definition of confidence.\n",
        "    - lift: double: A measure of how well the antecedent predicts the consequent, calculated as:\n",
        "                    support(antecedent U consequent) / (support(antecedent) x support(consequent))\n",
        "    - support: double: Refer to minSupport above for a definition of support.\n",
        "\n",
        "- transform: For each transaction in itemsCol, the transform method will compare\n",
        "its items against the antecedents of each association rule. If the record contains\n",
        "all the antecedents of a specific association rule, the rule will be considered as\n",
        "applicable and its consequents will be added to the prediction result. The transform\n",
        "method will summarize the consequents from all the applicable rules as prediction.\n",
        "The prediction column has the same data type as itemsCol and does not contain existing\n",
        "items in the itemsCol.\n",
        "\"\"\""
      ],
      "metadata": {
        "id": "uWZowW3ctXFI"
      },
      "execution_count": null,
      "outputs": []
    },
    {
      "cell_type": "code",
      "source": [
        "# Display frequent itemsets.\n",
        "items = model.freqItemsets\n",
        "items.count()"
      ],
      "metadata": {
        "id": "VwDX4Q4-mPnO",
        "colab": {
          "base_uri": "https://localhost:8080/"
        },
        "outputId": "6f957de1-5677-469c-b7e8-7908b2bd5b5c"
      },
      "execution_count": 21,
      "outputs": [
        {
          "output_type": "execute_result",
          "data": {
            "text/plain": [
              "59635"
            ]
          },
          "metadata": {},
          "execution_count": 21
        }
      ]
    },
    {
      "cell_type": "code",
      "source": [
        "items.show(20, False)"
      ],
      "metadata": {
        "id": "rrlCv_wAoYUm",
        "colab": {
          "base_uri": "https://localhost:8080/"
        },
        "outputId": "601d9164-3464-4225-af45-ab1d2677d42c"
      },
      "execution_count": 22,
      "outputs": [
        {
          "output_type": "stream",
          "name": "stdout",
          "text": [
            "+--------------------------------------------------------------------------------------------+----+\n",
            "|items                                                                                       |freq|\n",
            "+--------------------------------------------------------------------------------------------+----+\n",
            "|[people_Kusanagi, Mizuho]                                                                   |14  |\n",
            "|[anime_Sukitte Ii na yo.]                                                                   |17  |\n",
            "|[people_Fairouz, Ai]                                                                        |17  |\n",
            "|[people_Miyamoto, Shigeru]                                                                  |20  |\n",
            "|[characters_Nakano, Miku]                                                                   |292 |\n",
            "|[characters_Nakano, Miku, anime_Kono Subarashii Sekai ni Shukufuku wo!]                     |16  |\n",
            "|[characters_Nakano, Miku, anime_Shingeki no Kyojin: The Final Season]                       |15  |\n",
            "|[characters_Nakano, Miku, anime_No Game No Life]                                            |14  |\n",
            "|[characters_Nakano, Miku, anime_Violet Evergarden]                                          |21  |\n",
            "|[characters_Nakano, Miku, people_Takahashi, Rie]                                            |44  |\n",
            "|[characters_Nakano, Miku, people_Takahashi, Rie, people_Hayami, Saori]                      |15  |\n",
            "|[characters_Nakano, Miku, people_Takahashi, Rie, people_Hanazawa, Kana]                     |19  |\n",
            "|[characters_Nakano, Miku, anime_Shigatsu wa Kimi no Uso]                                    |41  |\n",
            "|[characters_Nakano, Miku, manga_Solo Leveling]                                              |29  |\n",
            "|[characters_Nakano, Miku, people_Oda, Eiichiro]                                             |17  |\n",
            "|[characters_Nakano, Miku, anime_Death Note]                                                 |21  |\n",
            "|[characters_Nakano, Miku, anime_Jujutsu Kaisen (TV)]                                        |23  |\n",
            "|[characters_Nakano, Miku, anime_Kaguya-sama wa Kokurasetai?: Tensai-tachi no Renai Zunousen]|22  |\n",
            "|[characters_Nakano, Miku, people_Hayami, Saori]                                             |35  |\n",
            "|[characters_Nakano, Miku, people_Hayami, Saori, people_Hanazawa, Kana]                      |14  |\n",
            "+--------------------------------------------------------------------------------------------+----+\n",
            "only showing top 20 rows\n",
            "\n"
          ]
        }
      ]
    },
    {
      "cell_type": "code",
      "source": [
        "# Display generated association rules.\n",
        "rules = model.associationRules\n",
        "rules.count()"
      ],
      "metadata": {
        "id": "f4OYlSQmoyVF",
        "colab": {
          "base_uri": "https://localhost:8080/"
        },
        "outputId": "5bf95a91-1021-4f05-a814-53dde375ec03"
      },
      "execution_count": 23,
      "outputs": [
        {
          "output_type": "execute_result",
          "data": {
            "text/plain": [
              "30797"
            ]
          },
          "metadata": {},
          "execution_count": 23
        }
      ]
    },
    {
      "cell_type": "code",
      "source": [
        "rules.show(20, False)"
      ],
      "metadata": {
        "id": "niVeh3hvmSo7",
        "colab": {
          "base_uri": "https://localhost:8080/"
        },
        "outputId": "6847889f-847b-47d4-e7fa-cda5c7b78510"
      },
      "execution_count": 24,
      "outputs": [
        {
          "output_type": "stream",
          "name": "stdout",
          "text": [
            "+-------------------------------------------------------------------------------------------------------------------+----------------------------------------+------------------+------------------+---------------------+\n",
            "|antecedent                                                                                                         |consequent                              |confidence        |lift              |support              |\n",
            "+-------------------------------------------------------------------------------------------------------------------+----------------------------------------+------------------+------------------+---------------------+\n",
            "|[characters_Yeager, Eren, anime_Shingeki no Kyojin Season 3 Part 2, anime_Code Geass: Hangyaku no Lelouch R2]      |[characters_Lamperouge, Lelouch]        |0.9               |8.341114058355437 |0.0012879221522610188|\n",
            "|[characters_Nishimiya, Shouko, manga_Koe no Katachi]                                                               |[anime_Koe no Katachi]                  |0.5925925925925926|10.39156094614062 |0.0011448196908986834|\n",
            "|[anime_Tengen Toppa Gurren Lagann, anime_Neon Genesis Evangelion, anime_Hunter x Hunter (2011)]                    |[anime_Fullmetal Alchemist: Brotherhood]|0.5666666666666667|4.711322625421376 |0.001216370921579851 |\n",
            "|[anime_Psycho-Pass, people_Sakurai, Takahiro, people_Kamiya, Hiroshi]                                              |[people_Miyano, Mamoru]                 |0.6666666666666666|7.172696946369001 |0.001001717229536348 |\n",
            "|[people_Sawashiro, Miyuki, anime_Hunter x Hunter (2011), anime_Fullmetal Alchemist: Brotherhood]                   |[characters_Zoldyck, Killua]            |0.5               |9.787114845938376 |0.0011448196908986834|\n",
            "|[people_Sawashiro, Miyuki, anime_Hunter x Hunter (2011), anime_Fullmetal Alchemist: Brotherhood]                   |[people_Kamiya, Hiroshi]                |0.5               |4.543563068920676 |0.0011448196908986834|\n",
            "|[characters_Senjougahara, Hitagi, anime_Code Geass: Hangyaku no Lelouch R2, anime_Fullmetal Alchemist: Brotherhood]|[characters_Lamperouge, Lelouch]        |0.7619047619047619|7.061260578501957 |0.0011448196908986834|\n",
            "|[characters_Elric, Edward, characters_Levi, anime_Hunter x Hunter (2011)]                                          |[anime_Fullmetal Alchemist: Brotherhood]|0.9375            |7.79446757882213  |0.0010732684602175158|\n",
            "|[people_NISIO, ISIN, characters_Araragi, Koyomi, anime_Steins;Gate]                                                |[characters_Okabe, Rintarou]            |0.625             |10.91875          |0.0014310246136233543|\n",
            "|[people_Koyasu, Takehito, people_Okamoto, Nobuhiko]                                                                |[people_Ono, Daisuke]                   |0.5454545454545454|11.032232600973556|0.0012879221522610188|\n",
            "|[people_Oda, Eiichiro, people_Miyano, Mamoru, anime_Steins;Gate]                                                   |[manga_One Piece]                       |0.7368421052631579|8.646603915329885 |0.001001717229536348 |\n",
            "|[anime_Shokugeki no Souma, characters_Monkey D., Luffy]                                                            |[anime_One Piece]                       |0.7619047619047619|6.991714348247506 |0.0011448196908986834|\n",
            "|[manga_JoJo no Kimyou na Bouken Part 7: Steel Ball Run, characters_Sakata, Gintoki, manga_One Piece]               |[manga_Berserk]                         |0.7619047619047619|10.4498341043974  |0.0011448196908986834|\n",
            "|[manga_JoJo no Kimyou na Bouken Part 7: Steel Ball Run, characters_Sakata, Gintoki, manga_One Piece]               |[people_Araki, Hirohiko]                |0.7142857142857143|20.456674473067917|0.0010732684602175158|\n",
            "|[characters_Elric, Edward, people_Fukuyama, Jun, characters_Lamperouge, Lelouch]                                   |[anime_Fullmetal Alchemist: Brotherhood]|0.5714285714285714|4.750913571853488 |0.0014310246136233543|\n",
            "|[characters_Elric, Edward, people_Fukuyama, Jun, characters_Lamperouge, Lelouch]                                   |[anime_Code Geass: Hangyaku no Lelouch] |0.6               |9.390369540873461 |0.001502575844304522 |\n",
            "|[characters_Elric, Edward, characters_Roronoa, Zoro, characters_Levi]                                              |[characters_Monkey D., Luffy]           |0.7777777777777778|10.352592592592593|0.001001717229536348 |\n",
            "|[people_Koyasu, Takehito, people_Kaji, Yuki, anime_Code Geass: Hangyaku no Lelouch]                                |[characters_Lamperouge, Lelouch]        |0.875             |8.109416445623342 |0.001001717229536348 |\n",
            "|[characters_Kamina, people_Kugimiya, Rie]                                                                          |[anime_Tengen Toppa Gurren Lagann]      |0.7272727272727273|14.709643467964742|0.0011448196908986834|\n",
            "|[anime_Death Note, characters_Lamperouge, Lelouch, anime_Steins;Gate]                                              |[anime_Code Geass: Hangyaku no Lelouch] |0.5               |7.825307950727884 |0.003005151688609044 |\n",
            "+-------------------------------------------------------------------------------------------------------------------+----------------------------------------+------------------+------------------+---------------------+\n",
            "only showing top 20 rows\n",
            "\n"
          ]
        }
      ]
    },
    {
      "cell_type": "code",
      "source": [
        "# transform examines the input items against all the association rules and summarize the consequents as prediction\n",
        "transformed = model.transform(favs_data)\n",
        "transformed.count()"
      ],
      "metadata": {
        "id": "PUgXzvYsjgMN",
        "colab": {
          "base_uri": "https://localhost:8080/"
        },
        "outputId": "8c4f388f-2848-4b3b-a4e6-7b3bc6af8c36"
      },
      "execution_count": 25,
      "outputs": [
        {
          "output_type": "execute_result",
          "data": {
            "text/plain": [
              "13976"
            ]
          },
          "metadata": {},
          "execution_count": 25
        }
      ]
    },
    {
      "cell_type": "code",
      "source": [
        "transformed.show(20, False)"
      ],
      "metadata": {
        "id": "fc4uD0LQpXSi",
        "colab": {
          "base_uri": "https://localhost:8080/"
        },
        "outputId": "7dcf6c7a-a629-4f9e-a06d-25a82ff52eef"
      },
      "execution_count": 26,
      "outputs": [
        {
          "output_type": "stream",
          "name": "stdout",
          "text": [
            "+----------------+----------------------------------------------------------------------------------------------------------------------------------------------------------------------------------------------------------------------------------------------------------------------------------------------------------------------------------------------------------------------------------------------------------------------------------------------------------------------------------------------------------------------------------------------------------------------------------------------------------------------------------------------------------------------------------------------------------------------------------------------------------------------------------------------------------------------------+----------------------------------------------------------------------------------------------------------------------------------------------------------------------------------------------------------------------------+\n",
            "|username        |collect_list(type_name)                                                                                                                                                                                                                                                                                                                                                                                                                                                                                                                                                                                                                                                                                                                                                                                                     |prediction                                                                                                                                                                                                                  |\n",
            "+----------------+----------------------------------------------------------------------------------------------------------------------------------------------------------------------------------------------------------------------------------------------------------------------------------------------------------------------------------------------------------------------------------------------------------------------------------------------------------------------------------------------------------------------------------------------------------------------------------------------------------------------------------------------------------------------------------------------------------------------------------------------------------------------------------------------------------------------------+----------------------------------------------------------------------------------------------------------------------------------------------------------------------------------------------------------------------------+\n",
            "|---DANIEL---    |[people_Isayama, Hajime, characters_Norman, people_Tsuda, Kenjirou, characters_Novachrono, Julius, manga_Tokyo卍Revengers, anime_Hunter x Hunter (2011), characters_Zoldyck, Killua, characters_Lancer, manga_Yakusoku no Neverland, people_Kaji, Yuki, anime_Shingeki no Kyojin: The Final Season, characters_Braun, Reiner, anime_Tokyo Revengers, anime_Black Clover, manga_Shingeki no Kyojin, characters_Sano, Manjirou, anime_Yakusoku no Neverland, manga_Shingeki no Kyojin: Kuinaki Sentaku]                                                                                                                                                                                                                                                                                                                       |[characters_Yeager, Eren, anime_Shingeki no Kyojin, people_Kamiya, Hiroshi]                                                                                                                                                 |\n",
            "|---KING---      |[manga_Henshin, characters_Bandai, Daisaku, characters_Jiji, anime_Miru Tights, anime_Iya na Kao sare nagara Opantsu Misete Moraitai, manga_Bokura no Sex]                                                                                                                                                                                                                                                                                                                                                                                                                                                                                                                                                                                                                                                                  |[]                                                                                                                                                                                                                          |\n",
            "|--ALEX--        |[manga_Shingeki no Kyojin, anime_To LOVE-Ru Darkness 2nd, manga_Prison School, anime_To LOVE-Ru Darkness, manga_Rosario to Vampire: Season II, people_Hanazawa, Kana, anime_Death Note, anime_Steins;Gate, manga_Fullmetal Alchemist, people_Toyosaki, Aki, people_Yabuki, Kentarou, anime_Monogatari Series: Second Season, anime_Shingeki no Kyojin, anime_Bakemonogatari, people_NISIO, ISIN, manga_To LOVE-Ru Darkness, characters_Deviluke, Momo Belia, people_Kugimiya, Rie]                                                                                                                                                                                                                                                                                                                                          |[people_Kamiya, Hiroshi, anime_Fullmetal Alchemist: Brotherhood, characters_Yagami, Light, people_Miyano, Mamoru, characters_Lamperouge, Lelouch, people_Kaji, Yuki, characters_Okabe, Rintarou, characters_Oshino, Shinobu]|\n",
            "|--ANONYMOUS--   |[characters_Kamado, Nezuko, anime_Hunter x Hunter (2011), characters_Chito, anime_Bleach, manga_Tokyo Ghoul, people_Knickerbocker, Brianna, people_Kohara, Konomi, anime_Naruto: Shippuuden, characters_Yuuri, manga_Tokyo Ghoul:re, characters_Greyrat, Rudeus, characters_Uzumaki, Naruto, manga_Shoujo Shuumatsu Ryokou, anime_Kimetsu no Yaiba, anime_Boku no Hero Academia, anime_Kaguya-sama wa Kokurasetai?: Tensai-tachi no Renai Zunousen, manga_Mushoku Tensei: Isekai Ittara Honki Dasu, characters_Hyuuga, Hinata, people_Valenzuela, Cristina, characters_Shiina, Mayuri, people_Sabat, Christopher, people_Takeuchi, Junko, anime_Fullmetal Alchemist: Brotherhood, people_Flanagan, Maile, anime_Overlord, anime_Clannad, anime_Death Note, characters_Fujiwara, Chika]                                      |[characters_Uchiha, Itachi, anime_One Piece, anime_Shingeki no Kyojin, characters_Kaneki, Ken, characters_Lamperouge, Lelouch, anime_Steins;Gate, characters_Kurosaki, Ichigo]                                              |\n",
            "|--Andrea--      |[characters_Asogi, Rin, characters_Himemiya, Chikane, people_Mitsuoka, Masami, anime_Phantom: Requiem for the Phantom, anime_Michiko to Hatchin, characters_Malandro, Michiko, characters_Yukishiro, Tomoe, anime_Ga-Rei: Zero, manga_Girl Friends, characters_Osaki, Nana, anime_Kannazuki no Miko, characters_Hitsugaya, Toushirou, people_Hirano, Aya, characters_Himura, Kenshin, anime_Rurouni Kenshin: Meiji Kenkaku Romantan - Tsuioku-hen, manga_Naruto, people_Noto, Mamiko]                                                                                                                                                                                                                                                                                                                                       |[anime_Nana]                                                                                                                                                                                                                |\n",
            "|--Anton--       |[characters_Fujiwara, Takumi, people_Miki, Shinichiro, manga_Pocket Monsters Special, people_Yamashita, Daiki, characters_Yuuki, Juudai, people_Suwabe, Junichi, anime_One Punch Man, characters_Yukihira, Souma, people_Tomatsu, Haruka, anime_Shokugeki no Souma, characters_Roronoa, Zoro, manga_One Punch-Man, characters_Monkey D., Luffy, anime_Kuroko no Basket, manga_Initial D, anime_One Piece, anime_Shigatsu wa Kimi no Uso, anime_Seishun Buta Yarou wa Yumemiru Shoujo no Yume wo Minai, characters_Saitama, people_Tanaka, Mayumi, anime_Katekyo Hitman Reborn!, people_Nakai, Kazuya, people_Konishi, Katsuyuki, people_Matsuoka, Yoshitsugu, characters_Kuroko, Tetsuya, people_Hayami, Saori, anime_Initial D First Stage, anime_Yowamushi Pedal, anime_Megalo Box, characters_Joe, people_Hanazawa, Kana]|[people_Oda, Eiichiro, manga_One Piece, people_Kamiya, Hiroshi, people_Miyano, Mamoru, people_Kayano, Ai]                                                                                                                   |\n",
            "|--Dark-san      |[manga_Shijou Saikyou no Deshi Kenichi, anime_Bleach, characters_Lamperouge, Lelouch, people_Ikeda, Akihisa, anime_Steins;Gate, manga_Mahou Sensei Negima!, anime_Code Geass: Hangyaku no Lelouch R2, characters_Maruo, Eiichirou, characters_Elric, Edward, manga_Onanie Master Kurosawa, characters_Makunouchi, Ippo, characters_Emiya, Shirou, characters_Kaizuka, Inaho, anime_Busou Renkin, manga_The Breaker: New Waves, anime_Baby Steps, anime_Zetsuen no Tempest, anime_Aldnoah.Zero, manga_Oyasumi Punpun, manga_Girls of the Wild's, manga_Rosario to Vampire: Season II, anime_Death Note, characters_Aono, Tsukune, anime_Fate/stay night: Unlimited Blade Works 2nd Season, anime_Btooom!]                                                                                                                    |[anime_Code Geass: Hangyaku no Lelouch, characters_Yagami, Light, anime_Fullmetal Alchemist: Brotherhood, anime_Hajime no Ippo, characters_Okabe, Rintarou]                                                                 |\n",
            "|--Dawn--        |[anime_Wotaku ni Koi wa Muzukashii, characters_Tokisaki, Kurumi, characters_Kurousagi, anime_Mahouka Koukou no Rettousei, characters_Vorn, Tigrevurmud, anime_Madan no Ou to Vanadis, characters_Hasegawa, Kobato, characters_Coopa, characters_Uzumaki, Naruto, anime_Toshokan Sensou, anime_Mondaiji-tachi ga Isekai kara Kuru Sou Desu yo?, characters_Shimon, Maya, anime_Hagure Yuusha no Aesthetica, characters_Shiba, Tatsuya, characters_Sakamaki, Izayoi, anime_Isekai no Seikishi Monogatari, characters_Ariadust, Horizon]                                                                                                                                                                                                                                                                                       |[]                                                                                                                                                                                                                          |\n",
            "|--ELITE--       |[anime_Rosario to Vampire, anime_Rosario to Vampire Capu2, people_Yuria, characters_Katagiri, Yuuhi, characters_Akashiya, Moka, characters_Mitsukai, Dokuro, characters_Lamperouge, Lelouch, anime_Code Geass: Hangyaku no Lelouch, anime_K-On!, characters_Stadtfeld, Kallen, characters_C.C., anime_Kannagi, people_Kugimiya, Rie]                                                                                                                                                                                                                                                                                                                                                                                                                                                                                        |[people_Fukuyama, Jun]                                                                                                                                                                                                      |\n",
            "|--FallenAngel-- |[manga_Tensei shitara Slime Datta Ken, people_Mizuki, Nana, characters_Uzumaki, Naruto, manga_Re:Monster, people_Kishimoto, Masashi, anime_Clannad: After Story, anime_Cross Game, characters_Mogami, Kyouko, anime_Nodame Cantabile, anime_Tengen Toppa Gurren Lagann, anime_Skip Beat!, people_Oda, Eiichiro, characters_Vermillion, Mavis, people_Inoue, Marina, characters_Gaara, people_Takeuchi, Junko, characters_Chrno, characters_Hibari, Kyouya, characters_Noda, Megumi, characters_Monkey D., Luffy, characters_Roronoa, Zoro, characters_Ibuki, Fuuko, people_Kugimiya, Rie, manga_One Punch-Man]                                                                                                                                                                                                              |[anime_One Piece, manga_One Piece, anime_Steins;Gate, anime_Hunter x Hunter (2011), anime_Naruto: Shippuuden, manga_Skip Beat!, people_Hanazawa, Kana]                                                                      |\n",
            "|--Hasuki_Komai--|[anime_Kaibutsu Oujo, manga_Pandora Hearts, manga_Mieruko-chan, people_Aimer, characters_Alice, manga_Kaibutsu Oujo, characters_Liliane, manga_Medaka Box, anime_Akame ga Kill!, people_Sawano, Hiroyuki, anime_Pandora Hearts, characters_Ayanami, Rei, characters_Izayoi, Sakuya, characters_Ajimu, Najimi, manga_Akame ga Kill!, anime_Fate/Zero, manga_Kaguya-sama wa Kokurasetai: Tensai-tachi no Renai Zunousen, anime_Hellsing Ultimate, manga_Shingetsutan Tsukihime, characters_Hayasaka, Ai, manga_ib: Instant Bullet, people_Sagisu, Shirou, people_Nakata, Jouji, anime_Neon Genesis Evangelion, characters_Akame, people_Kajiura, Yuki, characters_Claes, Catarina]                                                                                                                                            |[anime_Steins;Gate]                                                                                                                                                                                                         |\n",
            "|--KATAKURI      |[characters_Kurapika, anime_Cowboy Bebop, characters_Ackerman, Mikasa, manga_Overlord, characters_Spiegel, Spike, people_Ishikawa, Yui, people_Nakai, Kazuya, manga_Hunter x Hunter, characters_Levi, anime_Great Teacher Onizuka, anime_Tensei shitara Slime Datta Ken, manga_One Piece, anime_One Piece, characters_Onizuka, Eikichi, people_Furukawa, Makoto, people_Tomatsu, Haruka, characters_Roronoa, Zoro, characters_Tempest, Rimuru, anime_Shingeki no Kyojin, anime_Hunter x Hunter (2011), people_Tanaka, Mayumi, manga_Vagabond]                                                                                                                                                                                                                                                                               |[people_Oda, Eiichiro, manga_Berserk, characters_Monkey D., Luffy, people_Togashi, Yoshihiro, people_Kamiya, Hiroshi, characters_Guts, anime_Fullmetal Alchemist: Brotherhood]                                              |\n",
            "|--Kenshin--     |[anime_Shingeki no Kyojin, characters_Iki, Hiyori, manga_Gantz, characters_Shishio, Makoto, anime_Hajime no Ippo, manga_Vagabond, characters_Date, Masamune, manga_Kimi wa Pet, characters_Seo, Yuzuki, anime_Steins;Gate, people_Suwabe, Junichi, characters_Aomine, Daiki, people_Kamiya, Hiroshi, characters_Mizutani, Shizuku, people_Miyano, Mamoru, anime_Tonari no Kaibutsu-kun, characters_Yoshida, Haru]                                                                                                                                                                                                                                                                                                                                                                                                           |[manga_Berserk, anime_Fullmetal Alchemist: Brotherhood, people_Hanazawa, Kana, characters_Okabe, Rintarou, people_Kaji, Yuki, anime_Hunter x Hunter (2011), characters_Levi]                                                |\n",
            "|--Kenshin_      |[anime_Danshi Koukousei no Nichijou, manga_The God of High School, people_Kaji, Yuki, people_Nabatame, Hitomi, characters_Saitama, anime_FLCL, people_Tsuda, Kenjirou, anime_Bakemonogatari, characters_Genos, anime_Kaichou wa Maid-sama!, people_Okiayu, Ryoutarou, people_Mogami, Tsuguo, characters_Hinawa, Takehisa, characters_Esdeath, people_Gouda, Hozumi, characters_Lubbock, people_Asakawa, Yuu, characters_Touma, Kazusa, people_Sugiyama, Noriaki, characters_Leone, people_Kimura, Ryouhei, manga_Gintama, characters_Joker, anime_Death Parade, people_Hanazawa, Kana, characters_Daikoku]                                                                                                                                                                                                                  |[people_Kamiya, Hiroshi, characters_Sakata, Gintoki, anime_Gintama]                                                                                                                                                         |\n",
            "|--Magma--       |[characters_Hanamura, Yousuke, characters_Lamperouge, Lelouch, characters_Satonaka, Chie, manga_Bleach, characters_Amagi, Yukiko, characters_Lawliet, L, characters_Yagami, Light, characters_Narukami, Yuu, characters_Kujikawa, Rise, anime_Code Geass: Hangyaku no Lelouch, characters_Tatsumi, Kanji, anime_Bleach, characters_Shirogane, Naoto]                                                                                                                                                                                                                                                                                                                                                                                                                                                                        |[anime_Death Note]                                                                                                                                                                                                          |\n",
            "|--Mercy--       |[manga_Deadman Wonderland, characters_Orihara, Izaya, anime_Kono Subarashii Sekai ni Shukufuku wo!, people_Hayami, Saori, characters_Sarashiki, Tatenashi, characters_Gremory, Rias, anime_Log Horizon, characters_Hiiragi, Shinoa, anime_One Punch Man, people_Inoue, Marina, characters_Makise, Kurisu, anime_Steins;Gate, people_Hikasa, Youko, anime_Ansatsu Kyoushitsu, people_Taneda, Risa, characters_Shiro, anime_Deadman Wonderland, characters_Kuriyama, Mirai, anime_Durarara!!, anime_Kyoukai no Kanata, anime_Tokyo Ghoul, characters_Akatsuki, people_Han, Megumi, people_Kuno, Misaki, people_Katou, Emiri, people_Hanazawa, Kana, anime_D-Frag!]                                                                                                                                                            |[people_Takahashi, Rie, people_Kamiya, Hiroshi, anime_Hunter x Hunter (2011)]                                                                                                                                               |\n",
            "|--Muffin--      |[characters_Alucard, anime_Bleach, anime_Hellsing, characters_Kurosaki, Ichigo, characters_Ishida, Uryuu]                                                                                                                                                                                                                                                                                                                                                                                                                                                                                                                                                                                                                                                                                                                   |[]                                                                                                                                                                                                                          |\n",
            "|--Nightmare--   |[characters_Vegeta, characters_Son, Gokuu, anime_One Piece, characters_Roronoa, Zoro, characters_Saitama, characters_Momonga, characters_Midoriya, Izuku, characters_Monkey D., Luffy, manga_One Piece, characters_Uzumaki, Naruto]                                                                                                                                                                                                                                                                                                                                                                                                                                                                                                                                                                                         |[people_Oda, Eiichiro, anime_Naruto: Shippuuden, anime_One Punch Man, anime_Dragon Ball Z]                                                                                                                                  |\n",
            "|--Noumen--      |[characters_Dragneel, Natsu, anime_Fairy Tail, anime_One Piece, anime_Hunter x Hunter (2011), characters_Suzumiya, Haruhi, characters_Makise, Kurisu, characters_Morow, Hisoka, characters_Monkey D., Luffy, anime_Steins;Gate, characters_Roronoa, Zoro, characters_Son, Gokuu, anime_Suzumiya Haruhi no Yuuutsu, characters_Freecss, Gon, characters_Kashiwazaki, Sena, characters_von Stroheim, Rudol]                                                                                                                                                                                                                                                                                                                                                                                                                   |[people_Oda, Eiichiro, anime_Fullmetal Alchemist: Brotherhood, manga_One Piece, characters_Okabe, Rintarou, manga_Fairy Tail]                                                                                               |\n",
            "|--OZ--          |[people_Mizuki, Nana]                                                                                                                                                                                                                                                                                                                                                                                                                                                                                                                                                                                                                                                                                                                                                                                                       |[]                                                                                                                                                                                                                          |\n",
            "+----------------+----------------------------------------------------------------------------------------------------------------------------------------------------------------------------------------------------------------------------------------------------------------------------------------------------------------------------------------------------------------------------------------------------------------------------------------------------------------------------------------------------------------------------------------------------------------------------------------------------------------------------------------------------------------------------------------------------------------------------------------------------------------------------------------------------------------------------+----------------------------------------------------------------------------------------------------------------------------------------------------------------------------------------------------------------------------+\n",
            "only showing top 20 rows\n",
            "\n"
          ]
        }
      ]
    },
    {
      "cell_type": "markdown",
      "source": [
        "##### Utility Function"
      ],
      "metadata": {
        "id": "QWt5KaxIsfjF"
      }
    },
    {
      "cell_type": "code",
      "source": [
        "def run_fpGrowth(data, n=15, min_confidence=.5):\n",
        "    '''data must either be anime, manga, characters, or people df'''\n",
        "    favs = data.groupBy(\"username\") \\\n",
        "                    .agg(F.collect_list(\"name\")) \\\n",
        "                    .sort('username')\n",
        "\n",
        "    min_support = n / data.count()\n",
        "\n",
        "    fpGrowth = FPGrowth(itemsCol=\"collect_list(name)\",\n",
        "                    minSupport=min_support,\n",
        "                    minConfidence=min_confidence)\n",
        "\n",
        "    model = fpGrowth.fit(favs)\n",
        "\n",
        "    transformed = model.transform(favs)\n",
        "\n",
        "    return model.freqItemsets, model.associationRules, transformed\n",
        "\n",
        "\n",
        "def print_result(sets, key=None, n_rows=20):\n",
        "    print(f'Total: {sets.count()}\\n')\n",
        "\n",
        "    if key:\n",
        "        sets.sort(F.col(key).desc()).show(n_rows, truncate=False)\n",
        "    else:\n",
        "        sets.show(n_rows, truncate=False)"
      ],
      "metadata": {
        "id": "jS5RDQMNsg6X"
      },
      "execution_count": 14,
      "outputs": []
    },
    {
      "cell_type": "markdown",
      "source": [
        "##### Try Run Groups"
      ],
      "metadata": {
        "id": "ei06lSH4yIWy"
      }
    },
    {
      "cell_type": "code",
      "source": [
        "items, rules, transformed = run_fpGrowth(anime)"
      ],
      "metadata": {
        "id": "RQQG3Rissman"
      },
      "execution_count": null,
      "outputs": []
    },
    {
      "cell_type": "code",
      "source": [
        "print_result(items, 'freq')"
      ],
      "metadata": {
        "colab": {
          "base_uri": "https://localhost:8080/"
        },
        "id": "mSgObJEhss9q",
        "outputId": "cd018533-48bc-4dda-a0d4-c94b74d307e4"
      },
      "execution_count": null,
      "outputs": [
        {
          "output_type": "stream",
          "name": "stdout",
          "text": [
            "Total: 51671\n",
            "\n",
            "+---------------------------------------+----+\n",
            "|items                                  |freq|\n",
            "+---------------------------------------+----+\n",
            "|[Steins;Gate]                          |1694|\n",
            "|[Fullmetal Alchemist: Brotherhood]     |1681|\n",
            "|[Hunter x Hunter (2011)]               |1633|\n",
            "|[One Piece]                            |1523|\n",
            "|[Death Note]                           |1230|\n",
            "|[Shingeki no Kyojin]                   |1125|\n",
            "|[Code Geass: Hangyaku no Lelouch]      |893 |\n",
            "|[Neon Genesis Evangelion]              |858 |\n",
            "|[Koe no Katachi]                       |797 |\n",
            "|[Clannad: After Story]                 |783 |\n",
            "|[Gintama]                              |763 |\n",
            "|[Code Geass: Hangyaku no Lelouch R2]   |741 |\n",
            "|[Naruto: Shippuuden]                   |729 |\n",
            "|[Shigatsu wa Kimi no Uso]              |718 |\n",
            "|[Kimetsu no Yaiba]                     |716 |\n",
            "|[Tengen Toppa Gurren Lagann]           |691 |\n",
            "|[Kimi no Na wa.]                       |676 |\n",
            "|[Re:Zero kara Hajimeru Isekai Seikatsu]|619 |\n",
            "|[Jujutsu Kaisen (TV)]                  |614 |\n",
            "|[Cowboy Bebop]                         |569 |\n",
            "+---------------------------------------+----+\n",
            "only showing top 20 rows\n",
            "\n",
            "None\n"
          ]
        }
      ]
    },
    {
      "cell_type": "code",
      "source": [
        "print_result(rules, 'confidence', 30)"
      ],
      "metadata": {
        "colab": {
          "base_uri": "https://localhost:8080/"
        },
        "id": "SjvbMDDzsvLF",
        "outputId": "17fbc476-7909-4eac-d489-768be712cadf"
      },
      "execution_count": null,
      "outputs": [
        {
          "output_type": "stream",
          "name": "stdout",
          "text": [
            "Total: 19737\n",
            "\n",
            "+-----------------------------------------------------------------------------------------------------------------------------------------------------------------------------------------+-------------------------------------------------------+----------+------------------+---------------------+\n",
            "|antecedent                                                                                                                                                                               |consequent                                             |confidence|lift              |support              |\n",
            "+-----------------------------------------------------------------------------------------------------------------------------------------------------------------------------------------+-------------------------------------------------------+----------+------------------+---------------------+\n",
            "|[Shingeki no Kyojin Season 3, Ansatsu Kyoushitsu 2nd Season, Ansatsu Kyoushitsu]                                                                                                         |[Shingeki no Kyojin]                                   |1.0       |11.409777777777778|2.3371766905578062E-4|\n",
            "|[Gintama.: Shirogane no Tamashii-hen - Kouhan-sen, Gintama., Gintama': Enchousen, Gintama: The Final, Gintama°, Gintama]                                                                 |[Gintama']                                             |1.0       |186.02898550724638|2.3371766905578062E-4|\n",
            "|[Shingeki no Kyojin Season 3, Ansatsu Kyoushitsu 2nd Season, Ansatsu Kyoushitsu]                                                                                                         |[Shingeki no Kyojin Season 3 Part 2]                   |1.0       |23.726432532347502|2.3371766905578062E-4|\n",
            "|[Fate/Zero, Shigatsu wa Kimi no Uso, Shingeki no Kyojin, Fullmetal Alchemist: Brotherhood]                                                                                               |[Steins;Gate]                                          |1.0       |7.577331759149942 |2.3371766905578062E-4|\n",
            "|[Shingeki no Kyojin Season 3, Ansatsu Kyoushitsu 2nd Season, Ansatsu Kyoushitsu]                                                                                                         |[Shingeki no Kyojin Season 2]                          |1.0       |123.42307692307693|2.3371766905578062E-4|\n",
            "|[Kuroko no Basket, Jujutsu Kaisen (TV), Hunter x Hunter (2011)]                                                                                                                          |[Shingeki no Kyojin]                                   |1.0       |11.409777777777778|2.3371766905578062E-4|\n",
            "|[Death Parade, Shingeki no Kyojin Season 3 Part 2, Death Note]                                                                                                                           |[Steins;Gate]                                          |1.0       |7.577331759149942 |3.8952944842630103E-4|\n",
            "|[Kareshi Kanojo no Jijou, Yuu☆Yuu☆Hakusho]                                                                                                                                               |[Neon Genesis Evangelion]                              |1.0       |14.960372960372961|2.3371766905578062E-4|\n",
            "|[Vinland Saga, Naruto, Code Geass: Hangyaku no Lelouch]                                                                                                                                  |[Shingeki no Kyojin]                                   |1.0       |11.409777777777778|3.116235587410408E-4 |\n",
            "|[Gintama.: Porori-hen, Gintama., Gintama': Enchousen, Gintama', Gintama]                                                                                                                 |[Gintama°]                                             |1.0       |72.11235955056179 |3.116235587410408E-4 |\n",
            "|[Neon Genesis Evangelion: The End of Evangelion, Mob Psycho 100 II, Fullmetal Alchemist: Brotherhood]                                                                                    |[Hunter x Hunter (2011)]                               |1.0       |7.860379669320269 |3.8952944842630103E-4|\n",
            "|[Kono Subarashii Sekai ni Shukufuku wo!: Kono Subarashii Choker ni Shukufuku wo!, Kono Subarashii Sekai ni Shukufuku wo! Movie: Kurenai Densetsu, Kono Subarashii Sekai ni Shukufuku wo!]|[Kono Subarashii Sekai ni Shukufuku wo! 2]             |1.0       |132.3298969072165 |2.3371766905578062E-4|\n",
            "|[JoJo no Kimyou na Bouken Part 3: Stardust Crusaders 2nd Season, JoJo no Kimyou na Bouken (TV), One Piece]                                                                               |[JoJo no Kimyou na Bouken Part 4: Diamond wa Kudakenai]|1.0       |43.95890410958904 |2.3371766905578062E-4|\n",
            "|[Gyakkyou Burai Kaiji: Ultimate Survivor, Gintama°]                                                                                                                                      |[Monster]                                              |1.0       |27.252653927813164|2.3371766905578062E-4|\n",
            "|[Monster, Tengen Toppa Gurren Lagann, Code Geass: Hangyaku no Lelouch, Fullmetal Alchemist: Brotherhood]                                                                                 |[Hunter x Hunter (2011)]                               |1.0       |7.860379669320269 |2.3371766905578062E-4|\n",
            "|[Kimi no Na wa., Kimetsu no Yaiba, Shigatsu wa Kimi no Uso, Naruto: Shippuuden, Shingeki no Kyojin]                                                                                      |[Death Note]                                           |1.0       |10.435772357723577|3.116235587410408E-4 |\n",
            "|[Gintama°, Fate/Zero 2nd Season, Tengen Toppa Gurren Lagann]                                                                                                                             |[Fullmetal Alchemist: Brotherhood]                     |1.0       |7.635930993456276 |3.116235587410408E-4 |\n",
            "|[Kenpuu Denki Berserk, Neon Genesis Evangelion: The End of Evangelion, Steins;Gate]                                                                                                      |[Fullmetal Alchemist: Brotherhood]                     |1.0       |7.635930993456276 |2.3371766905578062E-4|\n",
            "|[Grisaia no Rakuen, Clannad: After Story]                                                                                                                                                |[Steins;Gate]                                          |1.0       |7.577331759149942 |2.3371766905578062E-4|\n",
            "|[Higurashi no Naku Koro ni Kai, Death Note]                                                                                                                                              |[Code Geass: Hangyaku no Lelouch R2]                   |1.0       |17.322537112010796|2.3371766905578062E-4|\n",
            "|[Mahou Shoujo Madoka★Magica, Code Geass: Hangyaku no Lelouch, Hunter x Hunter (2011)]                                                                                                    |[Steins;Gate]                                          |1.0       |7.577331759149942 |3.116235587410408E-4 |\n",
            "|[One Punch Man, Shigatsu wa Kimi no Uso, Steins;Gate]                                                                                                                                    |[Fullmetal Alchemist: Brotherhood]                     |1.0       |7.635930993456276 |2.3371766905578062E-4|\n",
            "|[Serial Experiments Lain, Ginga Eiyuu Densetsu, Fullmetal Alchemist: Brotherhood]                                                                                                        |[NHK ni Youkoso!]                                      |1.0       |49.9455252918288  |2.3371766905578062E-4|\n",
            "|[Gintama.: Shirogane no Tamashii-hen - Kouhan-sen, Gintama., Gintama', Gintama°]                                                                                                         |[Gintama': Enchousen]                                  |1.0       |534.8333333333334 |3.8952944842630103E-4|\n",
            "|[Haikyuu!!: To the Top 2nd Season, Haikyuu!! Second Season, Haikyuu!!: Karasuno Koukou vs. Shiratorizawa Gakuen Koukou]                                                                  |[Haikyuu!!]                                            |1.0       |25.41782178217822 |2.3371766905578062E-4|\n",
            "|[Gintama.: Shirogane no Tamashii-hen, Gintama., Gintama]                                                                                                                                 |[Gintama': Enchousen]                                  |1.0       |534.8333333333334 |3.8952944842630103E-4|\n",
            "|[Haikyuu!!: To the Top 2nd Season, Haikyuu!! Second Season, Haikyuu!!: Karasuno Koukou vs. Shiratorizawa Gakuen Koukou]                                                                  |[Haikyuu!!: To the Top]                                |1.0       |713.1111111111111 |2.3371766905578062E-4|\n",
            "|[Gintama.: Shirogane no Tamashii-hen, Gintama., Gintama]                                                                                                                                 |[Gintama']                                             |1.0       |186.02898550724638|3.8952944842630103E-4|\n",
            "|[Neon Genesis Evangelion: The End of Evangelion, Mob Psycho 100 II, Tengen Toppa Gurren Lagann, Fullmetal Alchemist: Brotherhood, Steins;Gate]                                           |[Hunter x Hunter (2011)]                               |1.0       |7.860379669320269 |2.3371766905578062E-4|\n",
            "|[Tengen Toppa Gurren Lagann, Gintama, Neon Genesis Evangelion, Fullmetal Alchemist: Brotherhood]                                                                                         |[Hunter x Hunter (2011)]                               |1.0       |7.860379669320269 |3.116235587410408E-4 |\n",
            "+-----------------------------------------------------------------------------------------------------------------------------------------------------------------------------------------+-------------------------------------------------------+----------+------------------+---------------------+\n",
            "only showing top 30 rows\n",
            "\n",
            "None\n"
          ]
        }
      ]
    },
    {
      "cell_type": "code",
      "source": [
        "print_result(transformed)"
      ],
      "metadata": {
        "colab": {
          "base_uri": "https://localhost:8080/"
        },
        "id": "Mf2HpquisxPM",
        "outputId": "b99946ff-5a57-46b4-fe53-a68835e86e9a"
      },
      "execution_count": null,
      "outputs": [
        {
          "output_type": "stream",
          "name": "stdout",
          "text": [
            "Total: 13976\n",
            "\n",
            "+----------------+--------------------------------------------------------------------------------------------------------------------------------------------------------------------------------------------------------------------------------------------------------------------------------------------------------------------------------------------------------------------------------------------------------------------------------------------------------------------------------------------------------------------------------------------------------------------------------+-----------------------------------------------------------------------------------------------------------------------------------------------------------------------------------------------+\n",
            "|username        |collect_list(name)                                                                                                                                                                                                                                                                                                                                                                                                                                                                                                                                                              |prediction                                                                                                                                                                                     |\n",
            "+----------------+--------------------------------------------------------------------------------------------------------------------------------------------------------------------------------------------------------------------------------------------------------------------------------------------------------------------------------------------------------------------------------------------------------------------------------------------------------------------------------------------------------------------------------------------------------------------------------+-----------------------------------------------------------------------------------------------------------------------------------------------------------------------------------------------+\n",
            "|---DANIEL---    |[Isayama, Hajime, Norman, Tsuda, Kenjirou, Novachrono, Julius, Tokyo卍Revengers, Hunter x Hunter (2011), Zoldyck, Killua, Lancer, Yakusoku no Neverland, Kaji, Yuki, Shingeki no Kyojin: The Final Season, Braun, Reiner, Tokyo Revengers, Black Clover, Shingeki no Kyojin, Sano, Manjirou, Yakusoku no Neverland, Shingeki no Kyojin: Kuinaki Sentaku]                                                                                                                                                                                                                        |[Shingeki no Kyojin Season 3 Part 2, Shingeki no Kyojin Season 2, Shingeki no Kyojin Season 3, Death Note, One Piece]                                                                          |\n",
            "|---KING---      |[Henshin, Bandai, Daisaku, Jiji, Miru Tights, Iya na Kao sare nagara Opantsu Misete Moraitai, Bokura no Sex]                                                                                                                                                                                                                                                                                                                                                                                                                                                                    |[]                                                                                                                                                                                             |\n",
            "|--ALEX--        |[Shingeki no Kyojin, To LOVE-Ru Darkness 2nd, Prison School, To LOVE-Ru Darkness, Rosario to Vampire: Season II, Hanazawa, Kana, Death Note, Steins;Gate, Fullmetal Alchemist, Toyosaki, Aki, Yabuki, Kentarou, Monogatari Series: Second Season, Shingeki no Kyojin, Bakemonogatari, NISIO, ISIN, To LOVE-Ru Darkness, Deviluke, Momo Belia, Kugimiya, Rie]                                                                                                                                                                                                                    |[Hunter x Hunter (2011)]                                                                                                                                                                       |\n",
            "|--ANONYMOUS--   |[Kamado, Nezuko, Hunter x Hunter (2011), Chito, Bleach, Tokyo Ghoul, Knickerbocker, Brianna, Kohara, Konomi, Naruto: Shippuuden, Yuuri, Tokyo Ghoul:re, Greyrat, Rudeus, Uzumaki, Naruto, Shoujo Shuumatsu Ryokou, Kimetsu no Yaiba, Boku no Hero Academia, Kaguya-sama wa Kokurasetai?: Tensai-tachi no Renai Zunousen, Mushoku Tensei: Isekai Ittara Honki Dasu, Hyuuga, Hinata, Valenzuela, Cristina, Shiina, Mayuri, Sabat, Christopher, Takeuchi, Junko, Fullmetal Alchemist: Brotherhood, Flanagan, Maile, Overlord, Clannad, Death Note, Fujiwara, Chika]                |[No Game No Life, One Piece, Shingeki no Kyojin, Dr. Stone, Jujutsu Kaisen (TV), Haikyuu!!, Clannad: After Story, Shingeki no Kyojin Season 3 Part 2, Steins;Gate, Tate no Yuusha no Nariagari]|\n",
            "|--Andrea--      |[Asogi, Rin, Himemiya, Chikane, Mitsuoka, Masami, Phantom: Requiem for the Phantom, Michiko to Hatchin, Malandro, Michiko, Yukishiro, Tomoe, Ga-Rei: Zero, Girl Friends, Osaki, Nana, Kannazuki no Miko, Hitsugaya, Toushirou, Hirano, Aya, Himura, Kenshin, Rurouni Kenshin: Meiji Kenkaku Romantan - Tsuioku-hen, Naruto, Noto, Mamiko]                                                                                                                                                                                                                                       |[]                                                                                                                                                                                             |\n",
            "|--Anton--       |[Fujiwara, Takumi, Miki, Shinichiro, Pocket Monsters Special, Yamashita, Daiki, Yuuki, Juudai, Suwabe, Junichi, One Punch Man, Yukihira, Souma, Tomatsu, Haruka, Shokugeki no Souma, Roronoa, Zoro, One Punch-Man, Monkey D., Luffy, Kuroko no Basket, Initial D, One Piece, Shigatsu wa Kimi no Uso, Seishun Buta Yarou wa Yumemiru Shoujo no Yume wo Minai, Saitama, Tanaka, Mayumi, Katekyo Hitman Reborn!, Nakai, Kazuya, Konishi, Katsuyuki, Matsuoka, Yoshitsugu, Kuroko, Tetsuya, Hayami, Saori, Initial D First Stage, Yowamushi Pedal, Megalo Box, Joe, Hanazawa, Kana]|[Kimi no Na wa., Shingeki no Kyojin, Haikyuu!!, Hunter x Hunter (2011), Steins;Gate, Koe no Katachi, Nanatsu no Taizai]                                                                        |\n",
            "|--Dark-san      |[Shijou Saikyou no Deshi Kenichi, Bleach, Lamperouge, Lelouch, Ikeda, Akihisa, Steins;Gate, Mahou Sensei Negima!, Code Geass: Hangyaku no Lelouch R2, Maruo, Eiichirou, Elric, Edward, Onanie Master Kurosawa, Makunouchi, Ippo, Emiya, Shirou, Kaizuka, Inaho, Busou Renkin, The Breaker: New Waves, Baby Steps, Zetsuen no Tempest, Aldnoah.Zero, Oyasumi Punpun, Girls of the Wild's, Rosario to Vampire: Season II, Death Note, Aono, Tsukune, Fate/stay night: Unlimited Blade Works 2nd Season, Btooom!]                                                                  |[Fullmetal Alchemist: Brotherhood, Fate/Zero 2nd Season, Hunter x Hunter (2011), Naruto: Shippuuden]                                                                                           |\n",
            "|--Dawn--        |[Wotaku ni Koi wa Muzukashii, Tokisaki, Kurumi, Kurousagi, Mahouka Koukou no Rettousei, Vorn, Tigrevurmud, Madan no Ou to Vanadis, Hasegawa, Kobato, Coopa, Uzumaki, Naruto, Toshokan Sensou, Mondaiji-tachi ga Isekai kara Kuru Sou Desu yo?, Shimon, Maya, Hagure Yuusha no Aesthetica, Shiba, Tatsuya, Sakamaki, Izayoi, Isekai no Seikishi Monogatari, Ariadust, Horizon]                                                                                                                                                                                                   |[Fullmetal Alchemist: Brotherhood]                                                                                                                                                             |\n",
            "|--ELITE--       |[Rosario to Vampire, Rosario to Vampire Capu2, Yuria, Katagiri, Yuuhi, Akashiya, Moka, Mitsukai, Dokuro, Lamperouge, Lelouch, Code Geass: Hangyaku no Lelouch, K-On!, Stadtfeld, Kallen, C.C., Kannagi, Kugimiya, Rie]                                                                                                                                                                                                                                                                                                                                                          |[]                                                                                                                                                                                             |\n",
            "|--FallenAngel-- |[Tensei shitara Slime Datta Ken, Mizuki, Nana, Uzumaki, Naruto, Re:Monster, Kishimoto, Masashi, Clannad: After Story, Cross Game, Mogami, Kyouko, Nodame Cantabile, Tengen Toppa Gurren Lagann, Skip Beat!, Oda, Eiichiro, Vermillion, Mavis, Inoue, Marina, Gaara, Takeuchi, Junko, Chrno, Hibari, Kyouya, Noda, Megumi, Monkey D., Luffy, Roronoa, Zoro, Ibuki, Fuuko, Kugimiya, Rie, One Punch-Man]                                                                                                                                                                          |[Gintama]                                                                                                                                                                                      |\n",
            "|--Hasuki_Komai--|[Kaibutsu Oujo, Pandora Hearts, Mieruko-chan, Aimer, Alice, Kaibutsu Oujo, Liliane, Medaka Box, Akame ga Kill!, Sawano, Hiroyuki, Pandora Hearts, Ayanami, Rei, Izayoi, Sakuya, Ajimu, Najimi, Akame ga Kill!, Fate/Zero, Kaguya-sama wa Kokurasetai: Tensai-tachi no Renai Zunousen, Hellsing Ultimate, Shingetsutan Tsukihime, Hayasaka, Ai, ib: Instant Bullet, Sagisu, Shirou, Nakata, Jouji, Neon Genesis Evangelion, Akame, Kajiura, Yuki, Claes, Catarina]                                                                                                               |[]                                                                                                                                                                                             |\n",
            "|--KATAKURI      |[Kurapika, Cowboy Bebop, Ackerman, Mikasa, Overlord, Spiegel, Spike, Ishikawa, Yui, Nakai, Kazuya, Hunter x Hunter, Levi, Great Teacher Onizuka, Tensei shitara Slime Datta Ken, One Piece, One Piece, Onizuka, Eikichi, Furukawa, Makoto, Tomatsu, Haruka, Roronoa, Zoro, Tempest, Rimuru, Shingeki no Kyojin, Hunter x Hunter (2011), Tanaka, Mayumi, Vagabond]                                                                                                                                                                                                               |[Death Note, Fullmetal Alchemist: Brotherhood, Hajime no Ippo]                                                                                                                                 |\n",
            "|--Kenshin--     |[Shingeki no Kyojin, Iki, Hiyori, Gantz, Shishio, Makoto, Hajime no Ippo, Vagabond, Date, Masamune, Kimi wa Pet, Seo, Yuzuki, Steins;Gate, Suwabe, Junichi, Aomine, Daiki, Kamiya, Hiroshi, Mizutani, Shizuku, Miyano, Mamoru, Tonari no Kaibutsu-kun, Yoshida, Haru]                                                                                                                                                                                                                                                                                                           |[Hunter x Hunter (2011)]                                                                                                                                                                       |\n",
            "|--Kenshin_      |[Danshi Koukousei no Nichijou, The God of High School, Kaji, Yuki, Nabatame, Hitomi, Saitama, FLCL, Tsuda, Kenjirou, Bakemonogatari, Genos, Kaichou wa Maid-sama!, Okiayu, Ryoutarou, Mogami, Tsuguo, Hinawa, Takehisa, Esdeath, Gouda, Hozumi, Lubbock, Asakawa, Yuu, Touma, Kazusa, Sugiyama, Noriaki, Leone, Kimura, Ryouhei, Gintama, Joker, Death Parade, Hanazawa, Kana, Daikoku]                                                                                                                                                                                         |[Monster, Cowboy Bebop, Steins;Gate, One Piece]                                                                                                                                                |\n",
            "|--Magma--       |[Hanamura, Yousuke, Lamperouge, Lelouch, Satonaka, Chie, Bleach, Amagi, Yukiko, Lawliet, L, Yagami, Light, Narukami, Yuu, Kujikawa, Rise, Code Geass: Hangyaku no Lelouch, Tatsumi, Kanji, Bleach, Shirogane, Naoto]                                                                                                                                                                                                                                                                                                                                                            |[]                                                                                                                                                                                             |\n",
            "|--Mercy--       |[Deadman Wonderland, Orihara, Izaya, Kono Subarashii Sekai ni Shukufuku wo!, Hayami, Saori, Sarashiki, Tatenashi, Gremory, Rias, Log Horizon, Hiiragi, Shinoa, One Punch Man, Inoue, Marina, Makise, Kurisu, Steins;Gate, Hikasa, Youko, Ansatsu Kyoushitsu, Taneda, Risa, Shiro, Deadman Wonderland, Kuriyama, Mirai, Durarara!!, Kyoukai no Kanata, Tokyo Ghoul, Akatsuki, Han, Megumi, Kuno, Misaki, Katou, Emiri, Hanazawa, Kana, D-Frag!]                                                                                                                                  |[]                                                                                                                                                                                             |\n",
            "|--Muffin--      |[Alucard, Bleach, Hellsing, Kurosaki, Ichigo, Ishida, Uryuu]                                                                                                                                                                                                                                                                                                                                                                                                                                                                                                                    |[]                                                                                                                                                                                             |\n",
            "|--Nightmare--   |[Vegeta, Son, Gokuu, One Piece, Roronoa, Zoro, Saitama, Momonga, Midoriya, Izuku, Monkey D., Luffy, One Piece, Uzumaki, Naruto]                                                                                                                                                                                                                                                                                                                                                                                                                                                 |[]                                                                                                                                                                                             |\n",
            "|--Noumen--      |[Dragneel, Natsu, Fairy Tail, One Piece, Hunter x Hunter (2011), Suzumiya, Haruhi, Makise, Kurisu, Morow, Hisoka, Monkey D., Luffy, Steins;Gate, Roronoa, Zoro, Son, Gokuu, Suzumiya Haruhi no Yuuutsu, Freecss, Gon, Kashiwazaki, Sena, von Stroheim, Rudol]                                                                                                                                                                                                                                                                                                                   |[Fullmetal Alchemist: Brotherhood, Shingeki no Kyojin, Death Note]                                                                                                                             |\n",
            "|--OZ--          |[Mizuki, Nana]                                                                                                                                                                                                                                                                                                                                                                                                                                                                                                                                                                  |[]                                                                                                                                                                                             |\n",
            "+----------------+--------------------------------------------------------------------------------------------------------------------------------------------------------------------------------------------------------------------------------------------------------------------------------------------------------------------------------------------------------------------------------------------------------------------------------------------------------------------------------------------------------------------------------------------------------------------------------+-----------------------------------------------------------------------------------------------------------------------------------------------------------------------------------------------+\n",
            "only showing top 20 rows\n",
            "\n",
            "None\n"
          ]
        }
      ]
    },
    {
      "cell_type": "markdown",
      "source": [
        "#### Dump"
      ],
      "metadata": {
        "id": "a_0-mVzhpYK1"
      }
    },
    {
      "cell_type": "code",
      "source": [
        "def dump(sets, name):\n",
        "    tmp = sets.select(\"*\").toPandas()\n",
        "    tmp.to_excel(f'{name}.xlsx', index=False)"
      ],
      "metadata": {
        "id": "7plXMmsOvee-"
      },
      "execution_count": 15,
      "outputs": []
    },
    {
      "cell_type": "code",
      "source": [
        "SAVE_PATH = 'favs-rules'\n",
        "!mkdir $SAVE_PATH"
      ],
      "metadata": {
        "id": "LfgZlKE3pfsA"
      },
      "execution_count": 16,
      "outputs": []
    },
    {
      "cell_type": "markdown",
      "source": [
        "##### Save Joined Favs"
      ],
      "metadata": {
        "id": "SYLaoFrPzxQe"
      }
    },
    {
      "cell_type": "code",
      "source": [
        "for result, name in [(items, \"items\"), (rules, \"rules\"), (transformed, 'transformed')]:\n",
        "    fn = f'all__{name}'\n",
        "    fpath = os.path.join(SAVE_PATH, fn)\n",
        "    \n",
        "    print(f'Got {result.count()} of {fn}')\n",
        "    print(f'Saving {fpath}')\n",
        "    \n",
        "    dump(result, fpath)"
      ],
      "metadata": {
        "colab": {
          "base_uri": "https://localhost:8080/"
        },
        "id": "7By0WUGizyqX",
        "outputId": "476eb83b-b6a9-47d0-9243-34133e81f551"
      },
      "execution_count": 37,
      "outputs": [
        {
          "output_type": "stream",
          "name": "stdout",
          "text": [
            "Got 59635 of all__items\n",
            "Saving favs-rules/all__items\n",
            "Got 30797 of all__rules\n",
            "Saving favs-rules/all__rules\n",
            "Got 13976 of all__transformed\n",
            "Saving favs-rules/all__transformed\n"
          ]
        }
      ]
    },
    {
      "cell_type": "markdown",
      "source": [
        "##### Save Groups"
      ],
      "metadata": {
        "id": "OOIF2BxLyNTI"
      }
    },
    {
      "cell_type": "code",
      "source": [
        "from collections import namedtuple\n",
        "\n",
        "datasets = [\n",
        "            (anime, 'anime', 15), \n",
        "            (manga, 'manga', 15),\n",
        "            (characters, 'characters', 20),\n",
        "            (people, 'people', 15)\n",
        "        ]\n",
        "\n",
        "for data, section, n_similar_people in datasets:\n",
        "    print(f'Processing {section}')\n",
        "\n",
        "    items, rules, transformed = run_fpGrowth(data, n_similar_people)\n",
        "    results = [\n",
        "               (items, 'items'),\n",
        "               (rules, 'rules'),\n",
        "               (transformed, 'transformed')\n",
        "            ]\n",
        "    \n",
        "    for result, name in results:\n",
        "        fn = f'{section}__{name}'\n",
        "        fpath = os.path.join(SAVE_PATH, fn)\n",
        "\n",
        "        print(f'Got {result.count()} of {fn}')\n",
        "        print(f'Saving {fpath}')\n",
        "        \n",
        "        dump(result, fpath)\n",
        "    \n",
        "    print(\"Done!\")"
      ],
      "metadata": {
        "id": "xoMugunli3dC",
        "colab": {
          "base_uri": "https://localhost:8080/"
        },
        "outputId": "ec0fd9b0-d5e9-473c-f27e-9132ee31e6d2"
      },
      "execution_count": 19,
      "outputs": [
        {
          "output_type": "stream",
          "name": "stdout",
          "text": [
            "Processing characters\n",
            "Got 40169 of characters__items\n",
            "Saving favs-rules/characters__items\n",
            "Got 14333 of characters__rules\n",
            "Saving favs-rules/characters__rules\n",
            "Got 12011 of characters__transformed\n",
            "Saving favs-rules/characters__transformed\n",
            "Done!\n",
            "Processing people\n",
            "Got 42595 of people__items\n",
            "Saving favs-rules/people__items\n",
            "Got 36498 of people__rules\n",
            "Saving favs-rules/people__rules\n",
            "Got 8861 of people__transformed\n",
            "Saving favs-rules/people__transformed\n",
            "Done!\n"
          ]
        }
      ]
    }
  ]
}