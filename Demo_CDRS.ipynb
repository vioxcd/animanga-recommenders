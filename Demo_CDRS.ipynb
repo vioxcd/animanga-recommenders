{
  "nbformat": 4,
  "nbformat_minor": 0,
  "metadata": {
    "colab": {
      "provenance": [],
      "toc_visible": true
    },
    "kernelspec": {
      "name": "python3",
      "display_name": "Python 3"
    },
    "language_info": {
      "name": "python"
    },
    "accelerator": "GPU",
    "gpuClass": "standard"
  },
  "cells": [
    {
      "cell_type": "markdown",
      "source": [
        "#### Install & Import"
      ],
      "metadata": {
        "id": "NpZBctenM0zU"
      }
    },
    {
      "cell_type": "code",
      "metadata": {
        "id": "XVt_f7e9KQH8"
      },
      "source": [
        "import torch\n",
        "import numpy as np\n",
        "import pandas as pd\n",
        "import matplotlib.pyplot as plt\n",
        "import seaborn as sns"
      ],
      "execution_count": null,
      "outputs": []
    },
    {
      "cell_type": "code",
      "metadata": {
        "id": "W7HbfuH93tWH",
        "colab": {
          "base_uri": "https://localhost:8080/"
        },
        "outputId": "5a69fab4-1ff6-4ea4-cd44-460377c56945"
      },
      "source": [
        "np.set_printoptions(3)\n",
        "plt.rcParams[\"figure.figsize\"] = (10, 6)\n",
        "sns.set_theme(style=\"whitegrid\")\n",
        "\n",
        "np.random.seed(42)\n",
        "torch.manual_seed(42)"
      ],
      "execution_count": null,
      "outputs": [
        {
          "output_type": "execute_result",
          "data": {
            "text/plain": [
              "<torch._C.Generator at 0x7f4be5eda0f0>"
            ]
          },
          "metadata": {},
          "execution_count": 2
        }
      ]
    },
    {
      "cell_type": "code",
      "metadata": {
        "id": "lr1CrMN2u1gd"
      },
      "source": [
        "!pip install -q gdown --upgrade"
      ],
      "execution_count": null,
      "outputs": []
    },
    {
      "cell_type": "code",
      "metadata": {
        "id": "E89pHMGMKQ1k"
      },
      "source": [
        "!pip install -q git+https://github.com/maciejkula/spotlight.git@master#egg=spotlight"
      ],
      "execution_count": null,
      "outputs": []
    },
    {
      "cell_type": "markdown",
      "source": [
        "#### Load Dataset"
      ],
      "metadata": {
        "id": "TODN29kxOdeX"
      }
    },
    {
      "cell_type": "code",
      "source": [
        "'''Clean dataset'''\n",
        "!gdown 'https://drive.google.com/uc?id=1l_UUpfgK9c74csvkiLIXDtKiuHig7xHA'  # clean_data.csv"
      ],
      "metadata": {
        "colab": {
          "base_uri": "https://localhost:8080/"
        },
        "id": "0JWNMzVztwsK",
        "outputId": "7f7e8a30-1287-4772-eb26-ba2c0b717837"
      },
      "execution_count": null,
      "outputs": [
        {
          "output_type": "stream",
          "name": "stdout",
          "text": [
            "Downloading...\n",
            "From: https://drive.google.com/uc?id=1l_UUpfgK9c74csvkiLIXDtKiuHig7xHA\n",
            "To: /content/clean_data.csv\n",
            "100% 238M/238M [00:00<00:00, 330MB/s]\n"
          ]
        }
      ]
    },
    {
      "cell_type": "code",
      "source": [
        "df = pd.read_csv('clean_data.csv')\n",
        "df.rename(columns={'score': 'rating'}, inplace=True)"
      ],
      "metadata": {
        "id": "4J-WwCUfucqq"
      },
      "execution_count": null,
      "outputs": []
    },
    {
      "cell_type": "code",
      "source": [
        "df.head()"
      ],
      "metadata": {
        "colab": {
          "base_uri": "https://localhost:8080/",
          "height": 206
        },
        "id": "1QHN7xTT8ZKv",
        "outputId": "61f746b4-25b3-4988-8181-ac641c45cb38"
      },
      "execution_count": null,
      "outputs": [
        {
          "output_type": "execute_result",
          "data": {
            "text/plain": [
              "          username   user   type   item  \\\n",
              "0          JBBeast   6779  anime   2453   \n",
              "1      nightfury10  14591  anime  10312   \n",
              "2  AzzurroKurai97X   3707  anime  11275   \n",
              "3           VhlleX  10591  anime   2633   \n",
              "4         Timelime  10371  anime   9553   \n",
              "\n",
              "                                               title  rating  \n",
              "0                    Dragon Ball: Episode of Bardock       1  \n",
              "1  Tsuujou Kougeki ga Zentai Kougeki de Ni-kai Ko...       1  \n",
              "2                                            ēlDLIVE       1  \n",
              "3                                    Eromanga-sensei       1  \n",
              "4                                Sword Art Online II       1  "
            ],
            "text/html": [
              "\n",
              "  <div id=\"df-de75c188-7373-4265-9a10-dd6d5fd0b07d\">\n",
              "    <div class=\"colab-df-container\">\n",
              "      <div>\n",
              "<style scoped>\n",
              "    .dataframe tbody tr th:only-of-type {\n",
              "        vertical-align: middle;\n",
              "    }\n",
              "\n",
              "    .dataframe tbody tr th {\n",
              "        vertical-align: top;\n",
              "    }\n",
              "\n",
              "    .dataframe thead th {\n",
              "        text-align: right;\n",
              "    }\n",
              "</style>\n",
              "<table border=\"1\" class=\"dataframe\">\n",
              "  <thead>\n",
              "    <tr style=\"text-align: right;\">\n",
              "      <th></th>\n",
              "      <th>username</th>\n",
              "      <th>user</th>\n",
              "      <th>type</th>\n",
              "      <th>item</th>\n",
              "      <th>title</th>\n",
              "      <th>rating</th>\n",
              "    </tr>\n",
              "  </thead>\n",
              "  <tbody>\n",
              "    <tr>\n",
              "      <th>0</th>\n",
              "      <td>JBBeast</td>\n",
              "      <td>6779</td>\n",
              "      <td>anime</td>\n",
              "      <td>2453</td>\n",
              "      <td>Dragon Ball: Episode of Bardock</td>\n",
              "      <td>1</td>\n",
              "    </tr>\n",
              "    <tr>\n",
              "      <th>1</th>\n",
              "      <td>nightfury10</td>\n",
              "      <td>14591</td>\n",
              "      <td>anime</td>\n",
              "      <td>10312</td>\n",
              "      <td>Tsuujou Kougeki ga Zentai Kougeki de Ni-kai Ko...</td>\n",
              "      <td>1</td>\n",
              "    </tr>\n",
              "    <tr>\n",
              "      <th>2</th>\n",
              "      <td>AzzurroKurai97X</td>\n",
              "      <td>3707</td>\n",
              "      <td>anime</td>\n",
              "      <td>11275</td>\n",
              "      <td>ēlDLIVE</td>\n",
              "      <td>1</td>\n",
              "    </tr>\n",
              "    <tr>\n",
              "      <th>3</th>\n",
              "      <td>VhlleX</td>\n",
              "      <td>10591</td>\n",
              "      <td>anime</td>\n",
              "      <td>2633</td>\n",
              "      <td>Eromanga-sensei</td>\n",
              "      <td>1</td>\n",
              "    </tr>\n",
              "    <tr>\n",
              "      <th>4</th>\n",
              "      <td>Timelime</td>\n",
              "      <td>10371</td>\n",
              "      <td>anime</td>\n",
              "      <td>9553</td>\n",
              "      <td>Sword Art Online II</td>\n",
              "      <td>1</td>\n",
              "    </tr>\n",
              "  </tbody>\n",
              "</table>\n",
              "</div>\n",
              "      <button class=\"colab-df-convert\" onclick=\"convertToInteractive('df-de75c188-7373-4265-9a10-dd6d5fd0b07d')\"\n",
              "              title=\"Convert this dataframe to an interactive table.\"\n",
              "              style=\"display:none;\">\n",
              "        \n",
              "  <svg xmlns=\"http://www.w3.org/2000/svg\" height=\"24px\"viewBox=\"0 0 24 24\"\n",
              "       width=\"24px\">\n",
              "    <path d=\"M0 0h24v24H0V0z\" fill=\"none\"/>\n",
              "    <path d=\"M18.56 5.44l.94 2.06.94-2.06 2.06-.94-2.06-.94-.94-2.06-.94 2.06-2.06.94zm-11 1L8.5 8.5l.94-2.06 2.06-.94-2.06-.94L8.5 2.5l-.94 2.06-2.06.94zm10 10l.94 2.06.94-2.06 2.06-.94-2.06-.94-.94-2.06-.94 2.06-2.06.94z\"/><path d=\"M17.41 7.96l-1.37-1.37c-.4-.4-.92-.59-1.43-.59-.52 0-1.04.2-1.43.59L10.3 9.45l-7.72 7.72c-.78.78-.78 2.05 0 2.83L4 21.41c.39.39.9.59 1.41.59.51 0 1.02-.2 1.41-.59l7.78-7.78 2.81-2.81c.8-.78.8-2.07 0-2.86zM5.41 20L4 18.59l7.72-7.72 1.47 1.35L5.41 20z\"/>\n",
              "  </svg>\n",
              "      </button>\n",
              "      \n",
              "  <style>\n",
              "    .colab-df-container {\n",
              "      display:flex;\n",
              "      flex-wrap:wrap;\n",
              "      gap: 12px;\n",
              "    }\n",
              "\n",
              "    .colab-df-convert {\n",
              "      background-color: #E8F0FE;\n",
              "      border: none;\n",
              "      border-radius: 50%;\n",
              "      cursor: pointer;\n",
              "      display: none;\n",
              "      fill: #1967D2;\n",
              "      height: 32px;\n",
              "      padding: 0 0 0 0;\n",
              "      width: 32px;\n",
              "    }\n",
              "\n",
              "    .colab-df-convert:hover {\n",
              "      background-color: #E2EBFA;\n",
              "      box-shadow: 0px 1px 2px rgba(60, 64, 67, 0.3), 0px 1px 3px 1px rgba(60, 64, 67, 0.15);\n",
              "      fill: #174EA6;\n",
              "    }\n",
              "\n",
              "    [theme=dark] .colab-df-convert {\n",
              "      background-color: #3B4455;\n",
              "      fill: #D2E3FC;\n",
              "    }\n",
              "\n",
              "    [theme=dark] .colab-df-convert:hover {\n",
              "      background-color: #434B5C;\n",
              "      box-shadow: 0px 1px 3px 1px rgba(0, 0, 0, 0.15);\n",
              "      filter: drop-shadow(0px 1px 2px rgba(0, 0, 0, 0.3));\n",
              "      fill: #FFFFFF;\n",
              "    }\n",
              "  </style>\n",
              "\n",
              "      <script>\n",
              "        const buttonEl =\n",
              "          document.querySelector('#df-de75c188-7373-4265-9a10-dd6d5fd0b07d button.colab-df-convert');\n",
              "        buttonEl.style.display =\n",
              "          google.colab.kernel.accessAllowed ? 'block' : 'none';\n",
              "\n",
              "        async function convertToInteractive(key) {\n",
              "          const element = document.querySelector('#df-de75c188-7373-4265-9a10-dd6d5fd0b07d');\n",
              "          const dataTable =\n",
              "            await google.colab.kernel.invokeFunction('convertToInteractive',\n",
              "                                                     [key], {});\n",
              "          if (!dataTable) return;\n",
              "\n",
              "          const docLinkHtml = 'Like what you see? Visit the ' +\n",
              "            '<a target=\"_blank\" href=https://colab.research.google.com/notebooks/data_table.ipynb>data table notebook</a>'\n",
              "            + ' to learn more about interactive tables.';\n",
              "          element.innerHTML = '';\n",
              "          dataTable['output_type'] = 'display_data';\n",
              "          await google.colab.output.renderOutput(dataTable, element);\n",
              "          const docLink = document.createElement('div');\n",
              "          docLink.innerHTML = docLinkHtml;\n",
              "          element.appendChild(docLink);\n",
              "        }\n",
              "      </script>\n",
              "    </div>\n",
              "  </div>\n",
              "  "
            ]
          },
          "metadata": {},
          "execution_count": 47
        }
      ]
    },
    {
      "cell_type": "markdown",
      "source": [
        "#### Utility Functions"
      ],
      "metadata": {
        "id": "vR21nwUjw81V"
      }
    },
    {
      "cell_type": "markdown",
      "source": [
        "##### EDA"
      ],
      "metadata": {
        "id": "jdAWA7LwyANt"
      }
    },
    {
      "cell_type": "code",
      "source": [
        "def sparse_to_df(sm):\n",
        "    u, i = sm.nonzero()\n",
        "    r = sm.data\n",
        "    return pd.DataFrame({'user': u, 'item': i, 'rating': r})\n",
        "\n",
        "def domain_sparsity(matrix):\n",
        "    '''Sparsity: 1 minus the density of the matrix'''\n",
        "    if isinstance(matrix, sparse.csr_matrix):\n",
        "        matrix = sparse_to_df(matrix)\n",
        "\n",
        "    entries_in_matrix = len(matrix) / (matrix.user.nunique() * matrix.item.nunique())\n",
        "    sparsity_in_percent = (1 - entries_in_matrix) * 100\n",
        "    return f'{round(sparsity_in_percent, 2)}%'\n",
        "\n",
        "def quick_stats(df):\n",
        "    '''Quick numbers'''\n",
        "    print(f'Number of users: {df.username.nunique()}')\n",
        "    print(f'Number of items: {df.title.nunique()}')\n",
        "    print(f'Number of transactions: {df.shape[0]}')\n",
        "    print('----------')\n",
        "\n",
        "    '''Ratings distributions'''\n",
        "    mean_ratings = df.groupby('username')['rating'].agg('mean')\n",
        "    sns.displot(mean_ratings, height=6, aspect=2, kde=True).set(title='Distribution of User Ratings')\n",
        "\n",
        "    '''Number and proportion of each item type'''\n",
        "    manga = df[df['type'] == 'manga'].copy()\n",
        "    anime = df[df['type'] == 'anime'].copy()\n",
        "    \n",
        "    print(f'Anime transactions: {len(anime)}')\n",
        "    print(f'Anime proportion in data: {round(len(anime) / len(df), 2)}')\n",
        "    print(f'Anime sparsity: {domain_sparsity(anime)}')\n",
        "    print('----------')\n",
        "\n",
        "    print(f'Manga transactions: {len(manga)}')\n",
        "    print(f'Manga proportion in data: {round(len(manga) / len(df), 2)}')\n",
        "    print(f'Manga sparsity: {domain_sparsity(manga)}')\n",
        "    print('----------')"
      ],
      "metadata": {
        "id": "r892LLR3w_SO"
      },
      "execution_count": null,
      "outputs": []
    },
    {
      "cell_type": "code",
      "source": [
        "def domain_overlap(df):\n",
        "    # pisahkan domain\n",
        "    anime_df = df[df['type'] == 'anime'].copy()\n",
        "    manga_df = df[df['type'] == 'manga'].copy()\n",
        "\n",
        "    anime_users = set(anime_df.username.unique())\n",
        "    manga_users = set(manga_df.username.unique())\n",
        "\n",
        "    # cek overlap\n",
        "    anime_and_manga_users = anime_users.intersection(manga_users)\n",
        "    anime_only_users = anime_users.difference(manga_users)\n",
        "    manga_only_users = manga_users.difference(anime_users)\n",
        "\n",
        "    print(f\"Both anime and manga users: {len(anime_and_manga_users)}\")\n",
        "    print(f\"Anime only users: {len(anime_only_users)}\")\n",
        "    print(f\"Manga only users: {len(manga_only_users)}\")"
      ],
      "metadata": {
        "id": "dhSbCvZKzL4e"
      },
      "execution_count": null,
      "outputs": []
    },
    {
      "cell_type": "markdown",
      "source": [
        "##### Train-test Split"
      ],
      "metadata": {
        "id": "V3B2ycYoyCY2"
      }
    },
    {
      "cell_type": "code",
      "source": [
        "'''Utilities for train test split with sparse matrices'''\n",
        "# https://gist.github.com/tgsmith61591/ce7d614d7a0442f94cd5ae5d1e51d3c2\n",
        "import numpy as np\n",
        "from scipy import sparse\n",
        "from sklearn.utils.validation import check_random_state\n",
        "from sklearn.utils import validation as skval\n",
        "\n",
        "DTYPE = np.float64  # implicit asks for doubles, not float32s...\n",
        "\n",
        "\n",
        "def check_consistent_length(u, i, r):\n",
        "    \"\"\"Ensure users, items, and ratings are all of the same dimension.\"\"\"\n",
        "    skval.check_consistent_length(u, i, r)\n",
        "    return np.asarray(u), np.asarray(i), np.asarray(r, dtype=DTYPE)\n",
        "\n",
        "\n",
        "def _make_sparse_csr(data, rows, cols, dtype=DTYPE):\n",
        "    # check lengths\n",
        "    check_consistent_length(data, rows, cols)\n",
        "    data, rows, cols = (np.asarray(x) for x in (data, rows, cols))\n",
        "\n",
        "    shape = (np.unique(rows).shape[0], np.unique(cols).shape[0])\n",
        "    return sparse.csr_matrix((data, (rows, cols)),\n",
        "                             shape=shape, dtype=dtype)\n",
        "\n",
        "\n",
        "def to_sparse_csr(u, i, r, axis=0, dtype=DTYPE):\n",
        "    \"\"\"Create a sparse ratings matrix.\"\"\"\n",
        "    if axis not in (0, 1):\n",
        "        raise ValueError(\"axis must be an int in (0, 1)\")\n",
        "\n",
        "    rows = u if axis == 0 else i\n",
        "    cols = i if axis == 0 else u\n",
        "    return _make_sparse_csr(data=r, rows=rows, cols=cols, dtype=dtype)\n",
        "\n",
        "\n",
        "def _validate_train_size(train_size):\n",
        "    \"\"\"Train size should be a float between 0 and 1.\"\"\"\n",
        "    assert isinstance(train_size, float) and (0. < train_size < 1.), \\\n",
        "        \"train_size should be a float between 0 and 1\"\n",
        "\n",
        "\n",
        "def _get_stratified_tr_mask(u, i, train_size, random_state):\n",
        "    _validate_train_size(train_size)  # validate it's a float\n",
        "    random_state = check_random_state(random_state)\n",
        "    n_events = u.shape[0]\n",
        "\n",
        "    # this is our train mask that we'll update over the course of this method\n",
        "    train_mask = random_state.rand(n_events) <= train_size  # type: np.ndarray\n",
        "\n",
        "    # we have a random mask now. For each of users and items, determine which\n",
        "    # are missing from the mask and randomly select one of each of their\n",
        "    # ratings to force them into the mask\n",
        "    for array in (u, i):\n",
        "        # e.g.:\n",
        "        # >>> array = np.array([1, 2, 3, 3, 1, 3, 2])\n",
        "        # >>> train_mask = np.array([0, 1, 1, 1, 0, 0, 1]).astype(bool)\n",
        "        # >>> unique, counts = np.unique(array, return_counts=True)\n",
        "        # >>> unique, counts\n",
        "        # (array([1, 2, 3]), array([2, 2, 3]))\n",
        "\n",
        "        # then present:\n",
        "        # >>> present\n",
        "        # array([2, 3, 3, 2])\n",
        "        present = array[train_mask]\n",
        "\n",
        "        # and the test indices:\n",
        "        # >>> test_vals\n",
        "        # array([1, 1, 3])\n",
        "        test_vals = array[~train_mask]\n",
        "\n",
        "        # get the test indices that are NOT present (either\n",
        "        # missing items or users)\n",
        "        # >>> missing\n",
        "        # array([1])\n",
        "        missing = np.unique(test_vals[np.where(\n",
        "            ~np.in1d(test_vals, present))[0]])\n",
        "\n",
        "        # If there is nothing missing, we got perfectly lucky with our random\n",
        "        # split and we'll just go with it...\n",
        "        if missing.shape[0] == 0:\n",
        "            continue\n",
        "\n",
        "        # Otherwise, if we get to this point, we have to add in the missing\n",
        "        # level to the mask to make sure at least one of each of those makes\n",
        "        # it into the training data (so we don't lose a factor level for ALS)\n",
        "        array_mask_missing = np.in1d(array, missing)\n",
        "\n",
        "        # indices in \"array\" where we have a level that's currently missing\n",
        "        # and that needs to be added into the mask\n",
        "        where_missing = np.where(array_mask_missing)[0]  # e.g., array([0, 4])\n",
        "\n",
        "        # I don't love having to loop here... but we'll iterate \"where_missing\"\n",
        "        # to incrementally add in items or users until all are represented\n",
        "        # in the training set to some degree\n",
        "        added = set()\n",
        "        for idx, val in zip(where_missing, array[where_missing]):\n",
        "            # if we've already seen and added this one\n",
        "            if val in added:  # O(1) lookup\n",
        "                continue\n",
        "\n",
        "            train_mask[idx] = True\n",
        "            added.add(val)\n",
        "\n",
        "    return train_mask\n",
        "\n",
        "\n",
        "def _make_sparse_tr_te(users, items, ratings, train_mask):\n",
        "    # now make the sparse matrices\n",
        "    r_train = to_sparse_csr(u=users[train_mask], i=items[train_mask],\n",
        "                            r=ratings[train_mask], axis=0)\n",
        "\n",
        "    r_test = to_sparse_csr(u=users, i=items, r=ratings, axis=0)\n",
        "    return r_train, r_test\n",
        "\n",
        "\n",
        "def train_test_split(u, i, r, train_size=0.75, random_state=None):\n",
        "    # make sure all of them are numpy arrays and of the same length\n",
        "    users, items, ratings = check_consistent_length(u, i, r)\n",
        "\n",
        "    train_mask = _get_stratified_tr_mask(\n",
        "        users, items, train_size=train_size,\n",
        "        random_state=random_state)\n",
        "\n",
        "    return _make_sparse_tr_te(users, items, ratings, train_mask=train_mask)"
      ],
      "metadata": {
        "id": "vL6xeJBWyejn"
      },
      "execution_count": null,
      "outputs": []
    },
    {
      "cell_type": "markdown",
      "source": [
        "##### Aggregation (Domain Train-test Split)"
      ],
      "metadata": {
        "id": "Z1UeYKdjycaq"
      }
    },
    {
      "cell_type": "code",
      "source": [
        "def domain_train_test_split(S, T, train_size=0.75, random_state=None):\n",
        "    '''Train Test splits scenario for cross-domain data'''\n",
        "    # we want to hide training samples from T (mask applied on T)\n",
        "    # if the mask is `True`, then it appear in training set\n",
        "    S_users = S.user.values; S_items = S.item.values; S_ratings = S.rating.values\n",
        "    T_users = T.user.values; T_items = T.item.values; T_ratings = T.rating.values\n",
        "\n",
        "    T_train_mask = _get_stratified_tr_mask(\n",
        "        T_users, T_items, train_size=train_size,\n",
        "        random_state=random_state)\n",
        "    \n",
        "    S_pad = np.ones(len(S), dtype=bool)  # all source data appear in train set\n",
        "    train_mask = np.concatenate((S_pad, T_train_mask))\n",
        "\n",
        "    # aggregate source and target data\n",
        "    users = np.concatenate((S_users, T_users))\n",
        "    items = np.concatenate((S_items, T_items))\n",
        "    ratings = np.concatenate((S_ratings, T_ratings))\n",
        "\n",
        "    # handle row dimensions exceeds error\n",
        "    # do this after concatenating with Source, so that there's no duplicate indexes\n",
        "    T_users, _ = T.user.factorize()\n",
        "    T_items, _ = T.item.factorize()\n",
        "\n",
        "    # make split\n",
        "    T_train, T_test = _make_sparse_tr_te(T_users, T_items, T_ratings, train_mask=T_train_mask)\n",
        "    FS_train, FS_test = _make_sparse_tr_te(users, items, ratings, train_mask=train_mask)\n",
        "\n",
        "    return T_train, T_test, FS_train, FS_test"
      ],
      "metadata": {
        "id": "iJSJycaHyeJF"
      },
      "execution_count": null,
      "outputs": []
    },
    {
      "cell_type": "markdown",
      "source": [
        "##### RQ1"
      ],
      "metadata": {
        "id": "9BXgSMrV42pF"
      }
    },
    {
      "cell_type": "code",
      "source": [
        "def get_mean_score(sparse_matrix, axis):\n",
        "  arr = sparse_matrix.toarray()\n",
        "  arr[arr == 0] = np.nan\n",
        "  return np.nanmean(arr, axis=axis)"
      ],
      "metadata": {
        "id": "Ysvt_tBA5P5-"
      },
      "execution_count": null,
      "outputs": []
    },
    {
      "cell_type": "code",
      "source": [
        "class BaselineItem:\n",
        "  def __init__(self, train):\n",
        "    self.train = train\n",
        "  \n",
        "  def get_predictions(self):\n",
        "    return get_mean_score(self.train, 0)  # item mean\n",
        "\n",
        "\n",
        "def baseline_rmse_score(model, test):\n",
        "  items_mean = model.get_predictions()\n",
        "  items_id = test.nonzero()[1]\n",
        "  predictions = items_mean[items_id]\n",
        "  return np.sqrt(((test.data - predictions) ** 2).mean())"
      ],
      "metadata": {
        "id": "T_N-iL-c447v"
      },
      "execution_count": null,
      "outputs": []
    },
    {
      "cell_type": "code",
      "source": [
        "from sklearn.metrics import accuracy_score, roc_curve, f1_score, r2_score\n",
        "from spotlight.factorization.explicit import ExplicitFactorizationModel\n",
        "from spotlight.interactions import Interactions\n",
        "\n",
        "def to_interactions(*sparse_matrix):\n",
        "    '''Turn train-test dataset to interaction class for compat with Spotlight's model'''\n",
        "    for sm in sparse_matrix:\n",
        "        user_ids = sm.nonzero()[0]\n",
        "        item_ids = sm.nonzero()[1]\n",
        "        ratings = sm.data\n",
        "\n",
        "        yield Interactions(user_ids, item_ids, ratings)\n",
        "\n",
        "\n",
        "def load_data(key):\n",
        "    keys = { 'Anime Single': 'Anime', 'Manga Single': 'Manga', 'Manga Cross': 'Full_Anime', 'Anime Cross': 'Full_Manga' }\n",
        "    assert key in keys, 'Key must be either `Anime Single, Manga Single, Manga Cross, or Anime Cross`'\n",
        "    \n",
        "    # add folders path as necessary\n",
        "    D = sparse.load_npz(f'{keys.get(key)}_train.npz')\n",
        "    D_test = sparse.load_npz(f'{keys.get(key)}_test.npz')\n",
        "\n",
        "    return D, D_test\n",
        "\n",
        "\n",
        "def rmse_score(model, test, batch=500_000):\n",
        "    '''RMSE scoring that works with batch predictions'''\n",
        "    N = len(test.user_ids)\n",
        "    i = 0\n",
        "    predictions = []\n",
        "    \n",
        "    for _ in range(0, N, batch):\n",
        "        get_batch = slice(i*500_000, (i+1)*500_000)\n",
        "        \n",
        "        pred = model.predict(test.user_ids[get_batch], test.item_ids[get_batch])\n",
        "        predictions.extend(pred)\n",
        "\n",
        "        i += 1\n",
        "\n",
        "    return round(np.sqrt(((test.ratings - np.array(predictions)) ** 2).mean()), 3)"
      ],
      "metadata": {
        "id": "9109xmvq5oaD"
      },
      "execution_count": null,
      "outputs": []
    },
    {
      "cell_type": "code",
      "source": [
        "def save_model(config):\n",
        "    '''\n",
        "    For reproducibility, fit on TRAIN.\n",
        "    For recommendations, fit on TEST.\n",
        "    '''\n",
        "    LATENT_DIM, DOMAIN = config\n",
        "    _, TEST = load_data(DOMAIN)\n",
        "\n",
        "    model = load_model(LATENT_DIM)\n",
        "    model.fit(TEST, verbose=True)\n",
        "\n",
        "    # `test` for recommendation\n",
        "    PATH = f'{DOMAIN}_test__{LATENT_DIM}.pth'\n",
        "    torch.save(model, PATH)"
      ],
      "metadata": {
        "id": "Y5nbrGEAIGC0"
      },
      "execution_count": null,
      "outputs": []
    },
    {
      "cell_type": "markdown",
      "source": [
        "##### RQ2"
      ],
      "metadata": {
        "id": "FQ1E3MVKCuBW"
      }
    },
    {
      "cell_type": "code",
      "source": [
        "'''Evaluation Utility'''\n",
        "def _get_batch_predictions(model, test, batch=500_000):\n",
        "    predictions = []\n",
        "    N = len(test.user_ids)\n",
        "    i = 0\n",
        "\n",
        "    for _ in range(0, N, batch):\n",
        "        get_batch = slice(i*500_000, (i+1)*500_000)\n",
        "        pred = model.predict(test.user_ids[get_batch], test.item_ids[get_batch])\n",
        "        predictions.extend(pred)\n",
        "        i += 1\n",
        "    \n",
        "    return np.array(predictions)\n",
        "\n",
        "\n",
        "def _rmse_score(ratings, predictions):\n",
        "    return round(np.sqrt(((ratings - predictions) ** 2).mean()), 3)\n",
        "\n",
        "\n",
        "def roc_score(ratings, predictions, t=6):\n",
        "    '''Return TP, TN, FP, FN'''\n",
        "    TP = TN = FP = FN = 0\n",
        "\n",
        "    for actual, pred in zip(ratings, predictions):\n",
        "        if actual >= t and pred >= t:\n",
        "            TP += 1\n",
        "        elif actual >= t > pred:\n",
        "            FN += 1\n",
        "        elif pred >= t > actual:\n",
        "            FP += 1\n",
        "        elif actual < t and pred < t:\n",
        "            TN += 1\n",
        "        else:\n",
        "            raise('Unknown condition just happened')\n",
        "    \n",
        "    return TP, TN, FP, FN\n",
        "\n",
        "\n",
        "def _balanced_accuracy(TPR, FPR):\n",
        "    return (TPR + (1-FPR))/2\n",
        "\n",
        "\n",
        "def score(model, test, t=6):\n",
        "    predictions = _get_batch_predictions(model, test)\n",
        "    binary_rating = test.ratings >= t; binary_predictions = predictions >= t\n",
        "\n",
        "    rmse = _rmse_score(test.ratings, predictions)\n",
        "    print(f'RMSE: {rmse}')\n",
        "    print('====================================')\n",
        "\n",
        "    TP, TN, FP, FN = roc_score(test.ratings, predictions)\n",
        "    TPR = TP / (TP + FN)\n",
        "    FPR = FP / (FP + TN)\n",
        "    print(f'True Positive Rate: {round(TPR, 3)}')\n",
        "    print(f'False Positive Rate: {round(FPR, 3)}')\n",
        "    print('====================================')\n",
        "\n",
        "    ba = _balanced_accuracy(TPR, FPR)\n",
        "    print(f'Balanced Accuracy: {round(ba, 3)}')\n",
        "    print('====================================')\n",
        "\n",
        "\n",
        "'''Modeling Utility'''\n",
        "def load_model(LATENT_DIM, LR=1e-3, L2=1e-6, NUM_EPOCHS=20):\n",
        "    model = ExplicitFactorizationModel(loss='regression',\n",
        "                                       embedding_dim=LATENT_DIM,\n",
        "                                       n_iter=NUM_EPOCHS,\n",
        "                                       learning_rate=LR,\n",
        "                                       batch_size=BATCH_SIZE,\n",
        "                                       l2=L2,\n",
        "                                       random_state=np.random.RandomState(RANDOM_SEED),\n",
        "                                       use_cuda=True)\n",
        "    return model"
      ],
      "metadata": {
        "id": "bu_HSyM_CvW_"
      },
      "execution_count": null,
      "outputs": []
    },
    {
      "cell_type": "markdown",
      "source": [
        "##### Visual Results"
      ],
      "metadata": {
        "id": "4Vq1PgnGOJdF"
      }
    },
    {
      "cell_type": "code",
      "source": [
        "def plot_results(title, results):\n",
        "    plt.scatter(results['emb_size'], results['rmse'])\n",
        "    plt.plot(results['emb_size'], results['rmse'])\n",
        "    plt.xticks(results['emb_size'])\n",
        "    plt.ylabel('RMSE')\n",
        "    plt.xlabel('Embedding Size')\n",
        "    plt.title(f'{title}')"
      ],
      "metadata": {
        "id": "Ks5ADxWAOJ2W"
      },
      "execution_count": null,
      "outputs": []
    },
    {
      "cell_type": "markdown",
      "source": [
        "##### Rekomendasi"
      ],
      "metadata": {
        "id": "I3V1cncePdTx"
      }
    },
    {
      "cell_type": "code",
      "source": [
        "from functools import partial\n",
        "\n",
        "def _post_rank(user_id, offset, recs, df):\n",
        "    '''Final recommendation list for the user, based on `unseen items recommendation`'''\n",
        "    f = df.user == (user_id + offset)           # filter current user from df\n",
        "    seen_items = df.loc[f]['item'].values       # get current user seen items\n",
        "    recs = set(recs.index)\n",
        "    return list(recs.difference(seen_items))    # take only unseen items\n",
        "\n",
        "\n",
        "def _topk_rank(user_id, k, item_type, crm, items_index, df):\n",
        "    '''Recommend top K items of certain type based on the computed rating matrix\n",
        "    \n",
        "    Parameters\n",
        "    ----------\n",
        "    user_id     : int. the user's ID\n",
        "    k           : int. number of items to recommend\n",
        "    item_type   : str. either anime or manga\n",
        "    crm         : ndarray. the computex matrix\n",
        "    items_index : dataframe. a dataframe with `item` index and `title` column\n",
        "    df          : dataframe. the whole user-item dataframe\n",
        "    '''\n",
        "    assert user_id > 0\n",
        "    assert k > 0\n",
        "    assert item_type in ('anime', 'manga')\n",
        "\n",
        "    # get ratings\n",
        "    ratings = crm[user_id]\n",
        "\n",
        "    # generate ranking\n",
        "    ranking = np.argpartition(ratings, -k)[-k:]\n",
        "    sorted_ranking = ranking[np.argsort(ratings[ranking])][::-1]  # -1 for descending\n",
        "\n",
        "    # generate recommendations. sorted and filtered by `type`\n",
        "    recs = items_index.iloc[sorted_ranking].copy()\n",
        "    recs = recs.loc[recs['type'] == item_type]\n",
        "\n",
        "    '''\n",
        "    This hardcoded offset is the number of skipped users from previously batch computed rating matrix\n",
        "    '''\n",
        "    OFFSET = 14900  \n",
        "\n",
        "    # post_rank: only recommend unseen items\n",
        "    unseen_items = _post_rank(user_id, OFFSET, recs, df)\n",
        "    return items_index.iloc[unseen_items]"
      ],
      "metadata": {
        "id": "EY0BzCtEPe5E"
      },
      "execution_count": null,
      "outputs": []
    },
    {
      "cell_type": "markdown",
      "source": [
        "#### Eksplorasi Data"
      ],
      "metadata": {
        "id": "UGaHKUdbN0uS"
      }
    },
    {
      "cell_type": "code",
      "source": [
        "quick_stats(df)"
      ],
      "metadata": {
        "colab": {
          "base_uri": "https://localhost:8080/",
          "height": 661
        },
        "id": "O8DsaBhf8S-H",
        "outputId": "e0ded95e-b6bd-4468-b59b-712e098b350e"
      },
      "execution_count": null,
      "outputs": [
        {
          "output_type": "stream",
          "name": "stdout",
          "text": [
            "Number of users: 15744\n",
            "Number of items: 21437\n",
            "Number of transactions: 4397293\n",
            "----------\n",
            "Anime transactions: 3841664\n",
            "Anime proportion in data: 0.87\n",
            "Anime sparsity: 97.83%\n",
            "----------\n",
            "Manga transactions: 555629\n",
            "Manga proportion in data: 0.13\n",
            "Manga sparsity: 99.6%\n",
            "----------\n"
          ]
        },
        {
          "output_type": "display_data",
          "data": {
            "text/plain": [
              "<Figure size 864x432 with 1 Axes>"
            ],
            "image/png": "[encoded data removed]"
          },
          "metadata": {}
        }
      ]
    },
    {
      "cell_type": "markdown",
      "source": [
        "##### Identifikasi Overlap"
      ],
      "metadata": {
        "id": "VQmAaXFeOsRi"
      }
    },
    {
      "cell_type": "code",
      "source": [
        "domain_overlap(df)"
      ],
      "metadata": {
        "colab": {
          "base_uri": "https://localhost:8080/"
        },
        "id": "uF06pN6_8Q66",
        "outputId": "7c582b0b-07b3-46ac-c4c3-6cf07d2e9d40"
      },
      "execution_count": null,
      "outputs": [
        {
          "output_type": "stream",
          "name": "stdout",
          "text": [
            "Both anime and manga users: 12152\n",
            "Anime only users: 3574\n",
            "Manga only users: 18\n"
          ]
        }
      ]
    },
    {
      "cell_type": "markdown",
      "source": [
        "#### Modeling"
      ],
      "metadata": {
        "id": "fRq8WMB7O3uk"
      }
    },
    {
      "cell_type": "markdown",
      "source": [
        "##### Dataset"
      ],
      "metadata": {
        "id": "dR-s10mK3GDd"
      }
    },
    {
      "cell_type": "code",
      "source": [
        "anime_df = df[df['type'] == 'anime'].copy()\n",
        "manga_df = df[df['type'] == 'manga'].copy()"
      ],
      "metadata": {
        "id": "itTJdt-i8NyU"
      },
      "execution_count": null,
      "outputs": []
    },
    {
      "cell_type": "code",
      "source": [
        "'''Create the dataset\n",
        "domain_train_test_split\n",
        "    params: source, target, train_size, random_state\n",
        "    return: target train, target test, source + target train, source + target test\n",
        "'''\n",
        "Manga_train, Manga_test, Full_Anime_train, Full_Anime_test = domain_train_test_split(anime_df, \n",
        "                                                                                     manga_df,\n",
        "                                                                                     train_size=.8,\n",
        "                                                                                     random_state=42)\n",
        "Anime_train, Anime_test, Full_Manga_train, Full_Manga_test = domain_train_test_split(manga_df,\n",
        "                                                                                     anime_df,\n",
        "                                                                                     train_size=.8,\n",
        "                                                                                     random_state=42)"
      ],
      "metadata": {
        "id": "rX77u-L98OmX"
      },
      "execution_count": null,
      "outputs": []
    },
    {
      "cell_type": "code",
      "source": [
        "'''Already created dataset'''\n",
        "# Anime\n",
        "# !gdown --quiet 1GtMOfI2CPZNk836Y3_W8jVro9fx-JlaL\n",
        "# !gdown --quiet 1R5iZDNtu4XQe2RtMhX4zsYsjorA2bVCE\n",
        "\n",
        "# Manga\n",
        "!gdown --quiet 1t1KTD3qqCuB_RtODorLr8Ny-3CHRGmKt\n",
        "!gdown --quiet 1g-Uu5j0PzO4OK5ZYo7cnzf8Z72jPYcGw\n",
        "\n",
        "# Full on Anime (Manga Cross-domain)\n",
        "!gdown --quiet 1jVVsYy1-Sp4lzi4keBPW11oiH7pRA1ER\n",
        "!gdown --quiet 15wEsqA5iCIhxk5ajHEHcJCehqNRd8MIx\n",
        "\n",
        "# Full on Manga (Anime Cross-domain)\n",
        "# !gdown --quiet 1Vimow1ALAt6CZoDIFu2FkTVmu5QfNgKY\n",
        "# !gdown --quiet 1fEzyheR8KB7q63KpspH6oO3W73L53Jy1"
      ],
      "metadata": {
        "id": "1WZXb4gr4kUH"
      },
      "execution_count": null,
      "outputs": []
    },
    {
      "cell_type": "markdown",
      "source": [
        "##### RQ1"
      ],
      "metadata": {
        "id": "Ljf4t46RPBBP"
      }
    },
    {
      "cell_type": "code",
      "source": [
        "'''Baseline for Anime'''\n",
        "model = BaselineItem(Anime_train)\n",
        "baseline_rmse_score(model, Anime_test)"
      ],
      "metadata": {
        "colab": {
          "base_uri": "https://localhost:8080/"
        },
        "id": "P_GCURZb8MSk",
        "outputId": "5f2e4271-e8fd-4907-8df3-4f47304ac5ba"
      },
      "execution_count": null,
      "outputs": [
        {
          "output_type": "execute_result",
          "data": {
            "text/plain": [
              "1.571825332541627"
            ]
          },
          "metadata": {},
          "execution_count": 52
        }
      ]
    },
    {
      "cell_type": "code",
      "source": [
        "'''Baseline for Manga'''\n",
        "model = BaselineItem(Manga_train)\n",
        "baseline_rmse_score(model, Manga_test)"
      ],
      "metadata": {
        "colab": {
          "base_uri": "https://localhost:8080/"
        },
        "id": "QnPzg0Y18Lb6",
        "outputId": "81535fb9-3ebc-429d-b2e9-df02a0b8545b"
      },
      "execution_count": null,
      "outputs": [
        {
          "output_type": "execute_result",
          "data": {
            "text/plain": [
              "1.5729243122924206"
            ]
          },
          "metadata": {},
          "execution_count": 53
        }
      ]
    },
    {
      "cell_type": "code",
      "source": [
        "'''Unchanging hyperparameters'''\n",
        "RANDOM_SEED = 42\n",
        "BATCH_SIZE = 256\n",
        "NUM_EPOCHS = 20\n",
        "\n",
        "def run_rq1_experiments(experiments):\n",
        "    '''Function to run the experiments'''\n",
        "    for params in experiments:\n",
        "        CASE, DOMAIN, LATENT_DIM, LEARNING_RATE, L2 = params\n",
        "        \n",
        "        print(f'Running experiments {CASE}')\n",
        "        print(f'Setup:')\n",
        "        print(f'DIM: {LATENT_DIM}')\n",
        "        print(f'LR : {LEARNING_RATE}')\n",
        "        print(f'L2 : {L2}')\n",
        "        \n",
        "        TRAIN_DATA, TEST_DATA = load_data(DOMAIN)\n",
        "        train, test = to_interactions(TRAIN_DATA, TEST_DATA)\n",
        "        \n",
        "        model = ExplicitFactorizationModel(loss='regression',\n",
        "                                        embedding_dim=LATENT_DIM,\n",
        "                                        n_iter=NUM_EPOCHS,\n",
        "                                        learning_rate=LEARNING_RATE,\n",
        "                                        batch_size=BATCH_SIZE,\n",
        "                                        l2=L2,\n",
        "                                        random_state=np.random.RandomState(RANDOM_SEED),\n",
        "                                        use_cuda=True)\n",
        "\n",
        "        model.fit(train, verbose=True)\n",
        "        rmse = rmse_score(model, test)\n",
        "        print(f'RMSE: {rmse}')\n",
        "        print('====================================\\n')\n",
        "        params.append(rmse)\n",
        "        torch.cuda.empty_cache()"
      ],
      "metadata": {
        "id": "BqrDJ4Q48KP7"
      },
      "execution_count": null,
      "outputs": []
    },
    {
      "cell_type": "code",
      "source": [
        "rq1_experiments = [\n",
        "    # Manga Cross-domain\n",
        "    ['Manga CDRS: Varying Emb. Size', 'Manga Cross',   32, 1e-3, 1e-6],\n",
        "    ['Manga CDRS: Varying Emb. Size', 'Manga Cross',   64, 1e-3, 1e-6],\n",
        "    ['Manga CDRS: Varying Emb. Size', 'Manga Cross',  128, 1e-3, 1e-6],\n",
        "    ['Manga CDRS: Varying Emb. Size', 'Manga Cross',  256, 1e-3, 1e-6],\n",
        "    ['Manga CDRS: Varying Emb. Size', 'Manga Cross',  384, 1e-3, 1e-6],\n",
        "    ['Manga CDRS: Varying Emb. Size', 'Manga Cross',  512, 1e-3, 1e-6],\n",
        "    \n",
        "    # Anime Cross-domain\n",
        "    ['Anime CDRS: Varying LR', 'Anime Cross',  256, 1e-2, 1e-6],\n",
        "    ['Anime CDRS: Varying LR', 'Anime Cross',  256, 5e-3, 1e-6],\n",
        "    ['Anime CDRS: Varying L2', 'Anime Cross',  256, 1e-3, 1e-4],\n",
        "    ['Anime CDRS: Varying L2', 'Anime Cross',  256, 1e-3, 1e-5],\n",
        "    ['Anime CDRS: Varying L2', 'Anime Cross',  256, 1e-3, 1e-7],\n",
        "    \n",
        "    # Best Setup\n",
        "    ['Best: Manga Single-Domain', 'Manga Single',   128, 1e-3, 1e-7],\n",
        "    ['Best: Manga Cross-Domain',  'Manga Cross',    256, 1e-3, 1e-7],\n",
        "    ['Best: Anime Single-Domain', 'Anime Single',   256, 1e-3, 1e-7],\n",
        "    ['Best: Anime Cross-Domain',  'Anime Cross',    256, 1e-3, 1e-7],\n",
        "]"
      ],
      "metadata": {
        "id": "y6ULt8JH7XqQ"
      },
      "execution_count": null,
      "outputs": []
    },
    {
      "cell_type": "code",
      "source": [
        "rq1_experiments = [\n",
        "    ['Best: Manga Single-Domain', 'Manga Single',   128, 1e-3, 1e-7],\n",
        "]\n",
        "\n",
        "run_rq1_experiments(rq1_experiments)"
      ],
      "metadata": {
        "colab": {
          "base_uri": "https://localhost:8080/"
        },
        "id": "qoVIz_Ez8IK8",
        "outputId": "e7054b63-aef7-43a6-fcb9-c2877529a8a2"
      },
      "execution_count": null,
      "outputs": [
        {
          "output_type": "stream",
          "name": "stdout",
          "text": [
            "Running experiments Best: Manga Single-Domain\n",
            "Setup:\n",
            "DIM: 128\n",
            "LR : 0.001\n",
            "L2 : 1e-07\n",
            "Epoch 0: loss 27.431185939222274\n",
            "Epoch 1: loss 3.744848541784365\n",
            "Epoch 2: loss 2.1217055293684433\n",
            "Epoch 3: loss 1.7655524950609174\n",
            "Epoch 4: loss 1.5922828491035257\n",
            "Epoch 5: loss 1.4608189079306273\n",
            "Epoch 6: loss 1.3341192534837376\n",
            "Epoch 7: loss 1.2038688096225576\n",
            "Epoch 8: loss 1.0691465385958896\n",
            "Epoch 9: loss 0.9249004047707932\n",
            "Epoch 10: loss 0.7778145961941635\n",
            "Epoch 11: loss 0.6331368805092626\n",
            "Epoch 12: loss 0.4995058764976636\n",
            "Epoch 13: loss 0.3847102288998645\n",
            "Epoch 14: loss 0.29134057871417396\n",
            "Epoch 15: loss 0.2192958951274321\n",
            "Epoch 16: loss 0.16756815235589162\n",
            "Epoch 17: loss 0.13077730562287093\n",
            "Epoch 18: loss 0.10594557068804487\n",
            "Epoch 19: loss 0.08974002892537042\n",
            "RMSE: 0.653\n",
            "====================================\n",
            "\n"
          ]
        }
      ]
    },
    {
      "cell_type": "markdown",
      "source": [
        "##### RQ2"
      ],
      "metadata": {
        "id": "Mx0h44AVPebp"
      }
    },
    {
      "cell_type": "code",
      "source": [
        "target_sparsity = domain_sparsity(manga_df)\n",
        "print(f'Initial Target Sparsity: {target_sparsity}')"
      ],
      "metadata": {
        "id": "VFR3sE5XBau4",
        "colab": {
          "base_uri": "https://localhost:8080/"
        },
        "outputId": "4dbffd5d-3e52-4a0b-8f87-2cd70790f4ff"
      },
      "execution_count": null,
      "outputs": [
        {
          "output_type": "stream",
          "name": "stdout",
          "text": [
            "Initial Target Sparsity: 99.6%\n"
          ]
        }
      ]
    },
    {
      "cell_type": "code",
      "source": [
        "def run_rq2_experiments(experiments):\n",
        "    '''Run experiments from scratch'''\n",
        "    assert len(experiments) != 0\n",
        "\n",
        "    for params in experiments:\n",
        "        CASE, DOMAIN, LATENT_DIM, LR, L2 = params\n",
        "        print(f'Running experiments {CASE}\\nSetup: {LATENT_DIM} emb. size. LR: {LR}. L2: {L2}')\n",
        "        \n",
        "        TRAIN_DATA, TEST_DATA = load_data(DOMAIN)\n",
        "        train, test = to_interactions(TRAIN_DATA, TEST_DATA)\n",
        "        model = load_model(LATENT_DIM, LR, L2)\n",
        "        model.fit(train, verbose=True)\n",
        "        score(model, test)\n",
        "\n",
        "        torch.cuda.empty_cache()\n",
        "\n",
        "\n",
        "def sensitivity_analysis(density_ratios, experiments):\n",
        "    for train_data_size in density_ratios:\n",
        "        M, M_test, FA, FA_test = domain_train_test_split(anime_df, manga_df, train_size=train_data_size, random_state=42)\n",
        "\n",
        "        target_sparsity = domain_sparsity(M)\n",
        "        print(f'\\nTarget Sparsity with {train_data_size} Train Size: {target_sparsity}')\n",
        "\n",
        "        run_rq2_experiments(experiments)"
      ],
      "metadata": {
        "id": "oEsg1x63FH6z"
      },
      "execution_count": null,
      "outputs": []
    },
    {
      "cell_type": "code",
      "source": [
        "density_ratios = [.5, .3, .2, .1, .05, .025, 0.005]\n",
        "rq2_experiments = [\n",
        "               [f'Manga Single-Domain.', 'Manga Single',  128, 1e-3, 1e-7],\n",
        "               [f'Manga Cross-Domain.',  'Manga Cross',   256, 1e-3, 1e-7]\n",
        "        ]\n",
        "sensitivity_analysis(density_ratios, rq2_experiments)"
      ],
      "metadata": {
        "id": "0_zeqtsoBiDH"
      },
      "execution_count": null,
      "outputs": []
    },
    {
      "cell_type": "code",
      "source": [
        "rq2_experiments = [\n",
        "               [f'Manga Cross-Domain.',  'Manga Cross',   256, 1e-3, 1e-7]\n",
        "        ]\n",
        "sensitivity_analysis([0.005], rq2_experiments)"
      ],
      "metadata": {
        "id": "b9GptwMMjSr1"
      },
      "execution_count": null,
      "outputs": []
    },
    {
      "cell_type": "markdown",
      "source": [
        "#### Visual Results"
      ],
      "metadata": {
        "id": "h0qRPcQzIpM2"
      }
    },
    {
      "cell_type": "code",
      "source": [
        "# Plot\n",
        "emb_size = [32, 64, 128, 256, 384, 512]\n",
        "results = [\n",
        "           [ .968, .802, .663, .665, .689, .712],  # manga single domain\n",
        "           [1.018, .919, .817, .759, .751, .767],  # anime single domain\n",
        "           [1.01,  .907, .802, .755, .758, .782],  # full manga cdrs\n",
        "           [ .993, .861, .694, .588, .613, .664],  # full anime cdrs\n",
        "]\n",
        "\n",
        "results = np.array(results)\n",
        "labels = ['Manga Single-Domain', 'Anime Single-Domain',\n",
        "          'Anime Cross-Domain', 'Manga Cross-Domain']\n",
        "\n",
        "for res, label in zip(results, labels):\n",
        "  plt.scatter(x = emb_size, y = res, label=label)\n",
        "  plt.plot(emb_size, res)\n",
        "\n",
        "plt.xticks(emb_size)\n",
        "plt.ylabel('RMSE')\n",
        "plt.xlabel('Embedding Size')\n",
        "plt.legend()\n",
        "plt.title('Experiment Results')"
      ],
      "metadata": {
        "id": "T3nm1-LNIqsb",
        "colab": {
          "base_uri": "https://localhost:8080/",
          "height": 427
        },
        "outputId": "7aa98117-4629-4e98-d389-bb48a99f05ea"
      },
      "execution_count": null,
      "outputs": [
        {
          "output_type": "execute_result",
          "data": {
            "text/plain": [
              "Text(0.5, 1.0, 'Experiment Results')"
            ]
          },
          "metadata": {},
          "execution_count": 59
        },
        {
          "output_type": "display_data",
          "data": {
            "text/plain": [
              "<Figure size 720x432 with 1 Axes>"
            ],
            "image/png": "[encoded data removed]"
          },
          "metadata": {}
        }
      ]
    },
    {
      "cell_type": "markdown",
      "source": [
        "#### Rekomendasi"
      ],
      "metadata": {
        "id": "GCYRbMSnPidw"
      }
    },
    {
      "cell_type": "markdown",
      "source": [
        "##### Membuat Indexes"
      ],
      "metadata": {
        "id": "G_M-zut5O3rj"
      }
    },
    {
      "cell_type": "code",
      "source": [
        "'''Save best model'''\n",
        "CONFIG = [\n",
        "    [128, 'Manga Single'], [256, 'Anime Single'], [256, 'Manga Cross'], [256, 'Anime Cross'],\n",
        "]\n",
        "\n",
        "for config in CONFIG:\n",
        "    print(f'Processing: {config}')\n",
        "    save_model(config)"
      ],
      "metadata": {
        "id": "wH09Kjw_DBfF"
      },
      "execution_count": null,
      "outputs": []
    },
    {
      "cell_type": "code",
      "source": [
        "!gdown --quiet --id 1S-wmljWziiaNI5AsMaP5cbC9BVm-Jhx5  # Manga CDRS model"
      ],
      "metadata": {
        "id": "nQpLVZUyOY12"
      },
      "execution_count": null,
      "outputs": []
    },
    {
      "cell_type": "code",
      "source": [
        "PATH = 'FA_test__256.pth'\n",
        "model = torch.load(PATH)\n",
        "model._net.eval()\n",
        "model._use_cuda"
      ],
      "metadata": {
        "id": "9B-swGZvOfIR"
      },
      "execution_count": null,
      "outputs": []
    },
    {
      "cell_type": "code",
      "source": [
        "'''Batch dump computed matrix operation'''\n",
        "DUMP_PATH = '/content/drive/MyDrive/dataset/cdrs-indexes'\n",
        "\n",
        "num_users, num_items = df.shape\n",
        "batch = 1000\n",
        "batch_num = (num_users // batch) + 1\n",
        "\n",
        "for i in range(batch_num):\n",
        "    start = batch*i\n",
        "    stop = batch*(i+1)\n",
        "\n",
        "    if i == batch_num-1:\n",
        "        # if last batch, get remaining users left\n",
        "        remaining_users = num_users % batch\n",
        "        computed_matrix = np.zeros((remaining_users, num_items))\n",
        "        \n",
        "        stop = start + remaining_users\n",
        "    else:\n",
        "        computed_matrix = np.zeros((batch, num_items))\n",
        "\n",
        "    for u in range(start, stop):\n",
        "        pred = model.predict(u)\n",
        "        index = u-start\n",
        "        computed_matrix[index] = pred\n",
        "\n",
        "    FILE_NAME = f'{start}-{stop}.pkl'\n",
        "    print(f'Dumping {FILE_NAME}')\n",
        "    computed_matrix.dump(f'{DUMP_PATH}/{FILE_NAME}')"
      ],
      "metadata": {
        "id": "y61Vzz6LOt6h"
      },
      "execution_count": null,
      "outputs": []
    },
    {
      "cell_type": "markdown",
      "source": [
        "##### Rekomendasi via Ranking"
      ],
      "metadata": {
        "id": "MfYPKMRFO7X-"
      }
    },
    {
      "cell_type": "code",
      "source": [
        "from google.colab import drive\n",
        "drive.mount('/content/drive')"
      ],
      "metadata": {
        "id": "bR4NjY0hOssQ",
        "colab": {
          "base_uri": "https://localhost:8080/"
        },
        "outputId": "d1da85cf-23f6-4dc4-e506-491a22de787c"
      },
      "execution_count": null,
      "outputs": [
        {
          "output_type": "stream",
          "name": "stdout",
          "text": [
            "Drive already mounted at /content/drive; to attempt to forcibly remount, call drive.mount(\"/content/drive\", force_remount=True).\n"
          ]
        }
      ]
    },
    {
      "cell_type": "code",
      "source": [
        "CLEAN_DATA_PATH = '/content/drive/MyDrive/dataset/anime/train-test-split/clean_data.csv'\n",
        "COMPUTED_MATRIX_PATH = '/content/drive/MyDrive/dataset/anime/14900-15744.pkl'"
      ],
      "metadata": {
        "id": "SluNCiYLO91m"
      },
      "execution_count": null,
      "outputs": []
    },
    {
      "cell_type": "code",
      "source": [
        "df = pd.read_csv(CLEAN_DATA_PATH)"
      ],
      "metadata": {
        "id": "vuy6FO_4PCcb"
      },
      "execution_count": null,
      "outputs": []
    },
    {
      "cell_type": "code",
      "source": [
        "'''Create easily indexable item lists'''\n",
        "items_index = df[['type', 'item', 'title']].drop_duplicates()\n",
        "items_index = items_index.set_index('item').sort_index()"
      ],
      "metadata": {
        "id": "Qsr952MtPEDH"
      },
      "execution_count": null,
      "outputs": []
    },
    {
      "cell_type": "code",
      "source": [
        "'''Example, load the last 844 users'''\n",
        "computed_matrix = np.load(COMPUTED_MATRIX_PATH, allow_pickle=True)\n",
        "computed_matrix.shape"
      ],
      "metadata": {
        "id": "rYpJaxd0PGFA",
        "colab": {
          "base_uri": "https://localhost:8080/"
        },
        "outputId": "a28eaf39-db5c-4228-970c-0400f244d069"
      },
      "execution_count": null,
      "outputs": [
        {
          "output_type": "execute_result",
          "data": {
            "text/plain": [
              "(844, 22685)"
            ]
          },
          "metadata": {},
          "execution_count": 63
        }
      ]
    },
    {
      "cell_type": "code",
      "source": [
        "'''Example from the last entry'''\n",
        "df.tail(1)"
      ],
      "metadata": {
        "id": "3l3wjBawPHbC",
        "colab": {
          "base_uri": "https://localhost:8080/",
          "height": 81
        },
        "outputId": "6540b527-b83a-47c3-e29c-25697e504c5b"
      },
      "execution_count": null,
      "outputs": [
        {
          "output_type": "execute_result",
          "data": {
            "text/plain": [
              "        username   user   type   item               title  rating\n",
              "4397292    vvioo  15743  manga  20357  Shingeki no Kyojin       9"
            ],
            "text/html": [
              "\n",
              "  <div id=\"df-a79a6a31-d60a-42c9-899d-b0cef30f2748\">\n",
              "    <div class=\"colab-df-container\">\n",
              "      <div>\n",
              "<style scoped>\n",
              "    .dataframe tbody tr th:only-of-type {\n",
              "        vertical-align: middle;\n",
              "    }\n",
              "\n",
              "    .dataframe tbody tr th {\n",
              "        vertical-align: top;\n",
              "    }\n",
              "\n",
              "    .dataframe thead th {\n",
              "        text-align: right;\n",
              "    }\n",
              "</style>\n",
              "<table border=\"1\" class=\"dataframe\">\n",
              "  <thead>\n",
              "    <tr style=\"text-align: right;\">\n",
              "      <th></th>\n",
              "      <th>username</th>\n",
              "      <th>user</th>\n",
              "      <th>type</th>\n",
              "      <th>item</th>\n",
              "      <th>title</th>\n",
              "      <th>rating</th>\n",
              "    </tr>\n",
              "  </thead>\n",
              "  <tbody>\n",
              "    <tr>\n",
              "      <th>4397292</th>\n",
              "      <td>vvioo</td>\n",
              "      <td>15743</td>\n",
              "      <td>manga</td>\n",
              "      <td>20357</td>\n",
              "      <td>Shingeki no Kyojin</td>\n",
              "      <td>9</td>\n",
              "    </tr>\n",
              "  </tbody>\n",
              "</table>\n",
              "</div>\n",
              "      <button class=\"colab-df-convert\" onclick=\"convertToInteractive('df-a79a6a31-d60a-42c9-899d-b0cef30f2748')\"\n",
              "              title=\"Convert this dataframe to an interactive table.\"\n",
              "              style=\"display:none;\">\n",
              "        \n",
              "  <svg xmlns=\"http://www.w3.org/2000/svg\" height=\"24px\"viewBox=\"0 0 24 24\"\n",
              "       width=\"24px\">\n",
              "    <path d=\"M0 0h24v24H0V0z\" fill=\"none\"/>\n",
              "    <path d=\"M18.56 5.44l.94 2.06.94-2.06 2.06-.94-2.06-.94-.94-2.06-.94 2.06-2.06.94zm-11 1L8.5 8.5l.94-2.06 2.06-.94-2.06-.94L8.5 2.5l-.94 2.06-2.06.94zm10 10l.94 2.06.94-2.06 2.06-.94-2.06-.94-.94-2.06-.94 2.06-2.06.94z\"/><path d=\"M17.41 7.96l-1.37-1.37c-.4-.4-.92-.59-1.43-.59-.52 0-1.04.2-1.43.59L10.3 9.45l-7.72 7.72c-.78.78-.78 2.05 0 2.83L4 21.41c.39.39.9.59 1.41.59.51 0 1.02-.2 1.41-.59l7.78-7.78 2.81-2.81c.8-.78.8-2.07 0-2.86zM5.41 20L4 18.59l7.72-7.72 1.47 1.35L5.41 20z\"/>\n",
              "  </svg>\n",
              "      </button>\n",
              "      \n",
              "  <style>\n",
              "    .colab-df-container {\n",
              "      display:flex;\n",
              "      flex-wrap:wrap;\n",
              "      gap: 12px;\n",
              "    }\n",
              "\n",
              "    .colab-df-convert {\n",
              "      background-color: #E8F0FE;\n",
              "      border: none;\n",
              "      border-radius: 50%;\n",
              "      cursor: pointer;\n",
              "      display: none;\n",
              "      fill: #1967D2;\n",
              "      height: 32px;\n",
              "      padding: 0 0 0 0;\n",
              "      width: 32px;\n",
              "    }\n",
              "\n",
              "    .colab-df-convert:hover {\n",
              "      background-color: #E2EBFA;\n",
              "      box-shadow: 0px 1px 2px rgba(60, 64, 67, 0.3), 0px 1px 3px 1px rgba(60, 64, 67, 0.15);\n",
              "      fill: #174EA6;\n",
              "    }\n",
              "\n",
              "    [theme=dark] .colab-df-convert {\n",
              "      background-color: #3B4455;\n",
              "      fill: #D2E3FC;\n",
              "    }\n",
              "\n",
              "    [theme=dark] .colab-df-convert:hover {\n",
              "      background-color: #434B5C;\n",
              "      box-shadow: 0px 1px 3px 1px rgba(0, 0, 0, 0.15);\n",
              "      filter: drop-shadow(0px 1px 2px rgba(0, 0, 0, 0.3));\n",
              "      fill: #FFFFFF;\n",
              "    }\n",
              "  </style>\n",
              "\n",
              "      <script>\n",
              "        const buttonEl =\n",
              "          document.querySelector('#df-a79a6a31-d60a-42c9-899d-b0cef30f2748 button.colab-df-convert');\n",
              "        buttonEl.style.display =\n",
              "          google.colab.kernel.accessAllowed ? 'block' : 'none';\n",
              "\n",
              "        async function convertToInteractive(key) {\n",
              "          const element = document.querySelector('#df-a79a6a31-d60a-42c9-899d-b0cef30f2748');\n",
              "          const dataTable =\n",
              "            await google.colab.kernel.invokeFunction('convertToInteractive',\n",
              "                                                     [key], {});\n",
              "          if (!dataTable) return;\n",
              "\n",
              "          const docLinkHtml = 'Like what you see? Visit the ' +\n",
              "            '<a target=\"_blank\" href=https://colab.research.google.com/notebooks/data_table.ipynb>data table notebook</a>'\n",
              "            + ' to learn more about interactive tables.';\n",
              "          element.innerHTML = '';\n",
              "          dataTable['output_type'] = 'display_data';\n",
              "          await google.colab.output.renderOutput(dataTable, element);\n",
              "          const docLink = document.createElement('div');\n",
              "          docLink.innerHTML = docLinkHtml;\n",
              "          element.appendChild(docLink);\n",
              "        }\n",
              "      </script>\n",
              "    </div>\n",
              "  </div>\n",
              "  "
            ]
          },
          "metadata": {},
          "execution_count": 64
        }
      ]
    },
    {
      "cell_type": "code",
      "source": [
        "'''Get computed ratings of the last users by indexing directly to the matrix'''\n",
        "# get the ratings\n",
        "ratings = computed_matrix[-1]\n",
        "\n",
        "# optional: bound values between 1 and 10\n",
        "ratings = ratings.clip(1,10)\n",
        "\n",
        "# get the ratings for certain items\n",
        "ratings[20357]"
      ],
      "metadata": {
        "id": "BaT_37wMPN8j",
        "colab": {
          "base_uri": "https://localhost:8080/"
        },
        "outputId": "23d6e7f4-a679-4447-d934-b1136d508b75"
      },
      "execution_count": null,
      "outputs": [
        {
          "output_type": "execute_result",
          "data": {
            "text/plain": [
              "9.109247207641602"
            ]
          },
          "metadata": {},
          "execution_count": 65
        }
      ]
    },
    {
      "cell_type": "code",
      "source": [
        "# utility ranking function\n",
        "topk_rank = partial(_topk_rank, crm=computed_matrix, items_index=items_index, df=df)"
      ],
      "metadata": {
        "id": "LZM-qOI9RGuZ"
      },
      "execution_count": null,
      "outputs": []
    },
    {
      "cell_type": "code",
      "source": [
        "'''Recommendation for vvioo'''\n",
        "# 15743 - 14900 = 843\n",
        "recs = topk_rank(843, 100, 'manga')\n",
        "recs"
      ],
      "metadata": {
        "id": "aIyg-DckPif5",
        "colab": {
          "base_uri": "https://localhost:8080/"
        },
        "outputId": "7e769300-cf5f-4c51-81f0-aeb5f49f8dd4"
      },
      "execution_count": null,
      "outputs": [
        {
          "output_type": "execute_result",
          "data": {
            "text/plain": [
              "        type                                              title\n",
              "item                                                           \n",
              "15745  manga     JoJo no Kimyou na Bouken Part 5: Ougon no Kaze\n",
              "11394  manga                                  20th Century Boys\n",
              "15113  manga                                           Holyland\n",
              "14348  manga                                       Golden Kamuy\n",
              "15248  manga                                    Houseki no Kuni\n",
              "16400  manga                                     Kimi no Na wa.\n",
              "22164  manga                                       Wind Breaker\n",
              "11414  manga                                    3-gatsu no Lion\n",
              "11800  manga                               All You Need Is Kill\n",
              "17307  manga                                            Lookism\n",
              "15262  manga                                    Hunter x Hunter\n",
              "11935  manga                                     Annarasumanara\n",
              "15905  manga  Kaguya-sama wa Kokurasetai: Tensai-tachi no Re...\n",
              "22396  manga  Youkoso Jitsuryoku Shijou Shugi no Kyoushitsu ...\n",
              "21930  manga                    Utsuro no Hako to Zero no Maria\n",
              "16554  manga                                           Kiseijuu\n",
              "15789  manga                                     Jujutsu Kaisen\n",
              "18479  manga                            Neon Genesis Evangelion\n",
              "15792  manga  Jumyou wo Kaitotte Moratta. Ichinen ni Tsuki, ...\n",
              "21041  manga                                         Sweet Home\n",
              "19504  manga                                               Real\n",
              "20656  manga                                          Slam Dunk\n",
              "12342  manga                                            Berserk\n",
              "14009  manga                                Fullmetal Alchemist\n",
              "21945  manga                                           Vagabond\n",
              "14396  manga                                         Grand Blue\n",
              "18620  manga                                           Noragami\n",
              "20291  manga                            Shigatsu wa Kimi no Uso\n",
              "13380  manga                                         Death Note\n",
              "11461  manga                                                 86\n",
              "12234  manga                                           Bakuman.\n",
              "13643  manga                                        Dragon Ball\n",
              "12496  manga                                          Blue Lock\n",
              "19152  manga                                           Overlord\n",
              "22226  manga  Yahari Ore no Seishun Love Comedy wa Machigatt...\n",
              "12499  manga                                        Blue Period\n",
              "21332  manga                                        The Horizon\n",
              "11733  manga                                        Aku no Hana\n",
              "19164  manga                                     Oyasumi Punpun\n",
              "21992  manga                                       Vinland Saga\n",
              "22383  manga                                        Yotsuba to!\n",
              "18037  manga                                     Mob Psycho 100\n",
              "22395  manga    Youkoso Jitsuryoku Shijou Shugi no Kyoushitsu e\n",
              "16508  manga                                            Kingdom"
            ],
            "text/html": [
              "\n",
              "  <div id=\"df-5e028285-4df9-4ca6-a13c-33eaa1f0e02b\">\n",
              "    <div class=\"colab-df-container\">\n",
              "      <div>\n",
              "<style scoped>\n",
              "    .dataframe tbody tr th:only-of-type {\n",
              "        vertical-align: middle;\n",
              "    }\n",
              "\n",
              "    .dataframe tbody tr th {\n",
              "        vertical-align: top;\n",
              "    }\n",
              "\n",
              "    .dataframe thead th {\n",
              "        text-align: right;\n",
              "    }\n",
              "</style>\n",
              "<table border=\"1\" class=\"dataframe\">\n",
              "  <thead>\n",
              "    <tr style=\"text-align: right;\">\n",
              "      <th></th>\n",
              "      <th>type</th>\n",
              "      <th>title</th>\n",
              "    </tr>\n",
              "    <tr>\n",
              "      <th>item</th>\n",
              "      <th></th>\n",
              "      <th></th>\n",
              "    </tr>\n",
              "  </thead>\n",
              "  <tbody>\n",
              "    <tr>\n",
              "      <th>15745</th>\n",
              "      <td>manga</td>\n",
              "      <td>JoJo no Kimyou na Bouken Part 5: Ougon no Kaze</td>\n",
              "    </tr>\n",
              "    <tr>\n",
              "      <th>11394</th>\n",
              "      <td>manga</td>\n",
              "      <td>20th Century Boys</td>\n",
              "    </tr>\n",
              "    <tr>\n",
              "      <th>15113</th>\n",
              "      <td>manga</td>\n",
              "      <td>Holyland</td>\n",
              "    </tr>\n",
              "    <tr>\n",
              "      <th>14348</th>\n",
              "      <td>manga</td>\n",
              "      <td>Golden Kamuy</td>\n",
              "    </tr>\n",
              "    <tr>\n",
              "      <th>15248</th>\n",
              "      <td>manga</td>\n",
              "      <td>Houseki no Kuni</td>\n",
              "    </tr>\n",
              "    <tr>\n",
              "      <th>16400</th>\n",
              "      <td>manga</td>\n",
              "      <td>Kimi no Na wa.</td>\n",
              "    </tr>\n",
              "    <tr>\n",
              "      <th>22164</th>\n",
              "      <td>manga</td>\n",
              "      <td>Wind Breaker</td>\n",
              "    </tr>\n",
              "    <tr>\n",
              "      <th>11414</th>\n",
              "      <td>manga</td>\n",
              "      <td>3-gatsu no Lion</td>\n",
              "    </tr>\n",
              "    <tr>\n",
              "      <th>11800</th>\n",
              "      <td>manga</td>\n",
              "      <td>All You Need Is Kill</td>\n",
              "    </tr>\n",
              "    <tr>\n",
              "      <th>17307</th>\n",
              "      <td>manga</td>\n",
              "      <td>Lookism</td>\n",
              "    </tr>\n",
              "    <tr>\n",
              "      <th>15262</th>\n",
              "      <td>manga</td>\n",
              "      <td>Hunter x Hunter</td>\n",
              "    </tr>\n",
              "    <tr>\n",
              "      <th>11935</th>\n",
              "      <td>manga</td>\n",
              "      <td>Annarasumanara</td>\n",
              "    </tr>\n",
              "    <tr>\n",
              "      <th>15905</th>\n",
              "      <td>manga</td>\n",
              "      <td>Kaguya-sama wa Kokurasetai: Tensai-tachi no Re...</td>\n",
              "    </tr>\n",
              "    <tr>\n",
              "      <th>22396</th>\n",
              "      <td>manga</td>\n",
              "      <td>Youkoso Jitsuryoku Shijou Shugi no Kyoushitsu ...</td>\n",
              "    </tr>\n",
              "    <tr>\n",
              "      <th>21930</th>\n",
              "      <td>manga</td>\n",
              "      <td>Utsuro no Hako to Zero no Maria</td>\n",
              "    </tr>\n",
              "    <tr>\n",
              "      <th>16554</th>\n",
              "      <td>manga</td>\n",
              "      <td>Kiseijuu</td>\n",
              "    </tr>\n",
              "    <tr>\n",
              "      <th>15789</th>\n",
              "      <td>manga</td>\n",
              "      <td>Jujutsu Kaisen</td>\n",
              "    </tr>\n",
              "    <tr>\n",
              "      <th>18479</th>\n",
              "      <td>manga</td>\n",
              "      <td>Neon Genesis Evangelion</td>\n",
              "    </tr>\n",
              "    <tr>\n",
              "      <th>15792</th>\n",
              "      <td>manga</td>\n",
              "      <td>Jumyou wo Kaitotte Moratta. Ichinen ni Tsuki, ...</td>\n",
              "    </tr>\n",
              "    <tr>\n",
              "      <th>21041</th>\n",
              "      <td>manga</td>\n",
              "      <td>Sweet Home</td>\n",
              "    </tr>\n",
              "    <tr>\n",
              "      <th>19504</th>\n",
              "      <td>manga</td>\n",
              "      <td>Real</td>\n",
              "    </tr>\n",
              "    <tr>\n",
              "      <th>20656</th>\n",
              "      <td>manga</td>\n",
              "      <td>Slam Dunk</td>\n",
              "    </tr>\n",
              "    <tr>\n",
              "      <th>12342</th>\n",
              "      <td>manga</td>\n",
              "      <td>Berserk</td>\n",
              "    </tr>\n",
              "    <tr>\n",
              "      <th>14009</th>\n",
              "      <td>manga</td>\n",
              "      <td>Fullmetal Alchemist</td>\n",
              "    </tr>\n",
              "    <tr>\n",
              "      <th>21945</th>\n",
              "      <td>manga</td>\n",
              "      <td>Vagabond</td>\n",
              "    </tr>\n",
              "    <tr>\n",
              "      <th>14396</th>\n",
              "      <td>manga</td>\n",
              "      <td>Grand Blue</td>\n",
              "    </tr>\n",
              "    <tr>\n",
              "      <th>18620</th>\n",
              "      <td>manga</td>\n",
              "      <td>Noragami</td>\n",
              "    </tr>\n",
              "    <tr>\n",
              "      <th>20291</th>\n",
              "      <td>manga</td>\n",
              "      <td>Shigatsu wa Kimi no Uso</td>\n",
              "    </tr>\n",
              "    <tr>\n",
              "      <th>13380</th>\n",
              "      <td>manga</td>\n",
              "      <td>Death Note</td>\n",
              "    </tr>\n",
              "    <tr>\n",
              "      <th>11461</th>\n",
              "      <td>manga</td>\n",
              "      <td>86</td>\n",
              "    </tr>\n",
              "    <tr>\n",
              "      <th>12234</th>\n",
              "      <td>manga</td>\n",
              "      <td>Bakuman.</td>\n",
              "    </tr>\n",
              "    <tr>\n",
              "      <th>13643</th>\n",
              "      <td>manga</td>\n",
              "      <td>Dragon Ball</td>\n",
              "    </tr>\n",
              "    <tr>\n",
              "      <th>12496</th>\n",
              "      <td>manga</td>\n",
              "      <td>Blue Lock</td>\n",
              "    </tr>\n",
              "    <tr>\n",
              "      <th>19152</th>\n",
              "      <td>manga</td>\n",
              "      <td>Overlord</td>\n",
              "    </tr>\n",
              "    <tr>\n",
              "      <th>22226</th>\n",
              "      <td>manga</td>\n",
              "      <td>Yahari Ore no Seishun Love Comedy wa Machigatt...</td>\n",
              "    </tr>\n",
              "    <tr>\n",
              "      <th>12499</th>\n",
              "      <td>manga</td>\n",
              "      <td>Blue Period</td>\n",
              "    </tr>\n",
              "    <tr>\n",
              "      <th>21332</th>\n",
              "      <td>manga</td>\n",
              "      <td>The Horizon</td>\n",
              "    </tr>\n",
              "    <tr>\n",
              "      <th>11733</th>\n",
              "      <td>manga</td>\n",
              "      <td>Aku no Hana</td>\n",
              "    </tr>\n",
              "    <tr>\n",
              "      <th>19164</th>\n",
              "      <td>manga</td>\n",
              "      <td>Oyasumi Punpun</td>\n",
              "    </tr>\n",
              "    <tr>\n",
              "      <th>21992</th>\n",
              "      <td>manga</td>\n",
              "      <td>Vinland Saga</td>\n",
              "    </tr>\n",
              "    <tr>\n",
              "      <th>22383</th>\n",
              "      <td>manga</td>\n",
              "      <td>Yotsuba to!</td>\n",
              "    </tr>\n",
              "    <tr>\n",
              "      <th>18037</th>\n",
              "      <td>manga</td>\n",
              "      <td>Mob Psycho 100</td>\n",
              "    </tr>\n",
              "    <tr>\n",
              "      <th>22395</th>\n",
              "      <td>manga</td>\n",
              "      <td>Youkoso Jitsuryoku Shijou Shugi no Kyoushitsu e</td>\n",
              "    </tr>\n",
              "    <tr>\n",
              "      <th>16508</th>\n",
              "      <td>manga</td>\n",
              "      <td>Kingdom</td>\n",
              "    </tr>\n",
              "  </tbody>\n",
              "</table>\n",
              "</div>\n",
              "      <button class=\"colab-df-convert\" onclick=\"convertToInteractive('df-5e028285-4df9-4ca6-a13c-33eaa1f0e02b')\"\n",
              "              title=\"Convert this dataframe to an interactive table.\"\n",
              "              style=\"display:none;\">\n",
              "        \n",
              "  <svg xmlns=\"http://www.w3.org/2000/svg\" height=\"24px\"viewBox=\"0 0 24 24\"\n",
              "       width=\"24px\">\n",
              "    <path d=\"M0 0h24v24H0V0z\" fill=\"none\"/>\n",
              "    <path d=\"M18.56 5.44l.94 2.06.94-2.06 2.06-.94-2.06-.94-.94-2.06-.94 2.06-2.06.94zm-11 1L8.5 8.5l.94-2.06 2.06-.94-2.06-.94L8.5 2.5l-.94 2.06-2.06.94zm10 10l.94 2.06.94-2.06 2.06-.94-2.06-.94-.94-2.06-.94 2.06-2.06.94z\"/><path d=\"M17.41 7.96l-1.37-1.37c-.4-.4-.92-.59-1.43-.59-.52 0-1.04.2-1.43.59L10.3 9.45l-7.72 7.72c-.78.78-.78 2.05 0 2.83L4 21.41c.39.39.9.59 1.41.59.51 0 1.02-.2 1.41-.59l7.78-7.78 2.81-2.81c.8-.78.8-2.07 0-2.86zM5.41 20L4 18.59l7.72-7.72 1.47 1.35L5.41 20z\"/>\n",
              "  </svg>\n",
              "      </button>\n",
              "      \n",
              "  <style>\n",
              "    .colab-df-container {\n",
              "      display:flex;\n",
              "      flex-wrap:wrap;\n",
              "      gap: 12px;\n",
              "    }\n",
              "\n",
              "    .colab-df-convert {\n",
              "      background-color: #E8F0FE;\n",
              "      border: none;\n",
              "      border-radius: 50%;\n",
              "      cursor: pointer;\n",
              "      display: none;\n",
              "      fill: #1967D2;\n",
              "      height: 32px;\n",
              "      padding: 0 0 0 0;\n",
              "      width: 32px;\n",
              "    }\n",
              "\n",
              "    .colab-df-convert:hover {\n",
              "      background-color: #E2EBFA;\n",
              "      box-shadow: 0px 1px 2px rgba(60, 64, 67, 0.3), 0px 1px 3px 1px rgba(60, 64, 67, 0.15);\n",
              "      fill: #174EA6;\n",
              "    }\n",
              "\n",
              "    [theme=dark] .colab-df-convert {\n",
              "      background-color: #3B4455;\n",
              "      fill: #D2E3FC;\n",
              "    }\n",
              "\n",
              "    [theme=dark] .colab-df-convert:hover {\n",
              "      background-color: #434B5C;\n",
              "      box-shadow: 0px 1px 3px 1px rgba(0, 0, 0, 0.15);\n",
              "      filter: drop-shadow(0px 1px 2px rgba(0, 0, 0, 0.3));\n",
              "      fill: #FFFFFF;\n",
              "    }\n",
              "  </style>\n",
              "\n",
              "      <script>\n",
              "        const buttonEl =\n",
              "          document.querySelector('#df-5e028285-4df9-4ca6-a13c-33eaa1f0e02b button.colab-df-convert');\n",
              "        buttonEl.style.display =\n",
              "          google.colab.kernel.accessAllowed ? 'block' : 'none';\n",
              "\n",
              "        async function convertToInteractive(key) {\n",
              "          const element = document.querySelector('#df-5e028285-4df9-4ca6-a13c-33eaa1f0e02b');\n",
              "          const dataTable =\n",
              "            await google.colab.kernel.invokeFunction('convertToInteractive',\n",
              "                                                     [key], {});\n",
              "          if (!dataTable) return;\n",
              "\n",
              "          const docLinkHtml = 'Like what you see? Visit the ' +\n",
              "            '<a target=\"_blank\" href=https://colab.research.google.com/notebooks/data_table.ipynb>data table notebook</a>'\n",
              "            + ' to learn more about interactive tables.';\n",
              "          element.innerHTML = '';\n",
              "          dataTable['output_type'] = 'display_data';\n",
              "          await google.colab.output.renderOutput(dataTable, element);\n",
              "          const docLink = document.createElement('div');\n",
              "          docLink.innerHTML = docLinkHtml;\n",
              "          element.appendChild(docLink);\n",
              "        }\n",
              "      </script>\n",
              "    </div>\n",
              "  </div>\n",
              "  "
            ]
          },
          "metadata": {},
          "execution_count": 67
        }
      ]
    }
  ]
}